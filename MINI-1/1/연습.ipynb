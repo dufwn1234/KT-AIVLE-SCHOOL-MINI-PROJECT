{
 "cells": [
  {
   "cell_type": "code",
   "execution_count": 3,
   "metadata": {},
   "outputs": [
    {
     "data": {
      "text/plain": [
       "array([1, 2, 3, 4, 5])"
      ]
     },
     "execution_count": 3,
     "metadata": {},
     "output_type": "execute_result"
    }
   ],
   "source": [
    "import numpy as np\n",
    "\n",
    "a=[1,2,3,4,5]\n",
    "b=np.array(a)\n",
    "b"
   ]
  },
  {
   "cell_type": "code",
   "execution_count": 4,
   "metadata": {},
   "outputs": [],
   "source": [
    "dic = {'a':1, 'b':2, 'c':3}\n",
    "a = np.array([list(dic.keys()), list(dic.values())])\n"
   ]
  },
  {
   "cell_type": "code",
   "execution_count": 5,
   "metadata": {},
   "outputs": [
    {
     "data": {
      "text/plain": [
       "array([['a', 'b', 'c'],\n",
       "       ['1', '2', '3']], dtype='<U11')"
      ]
     },
     "execution_count": 5,
     "metadata": {},
     "output_type": "execute_result"
    }
   ],
   "source": [
    "a"
   ]
  },
  {
   "cell_type": "code",
   "execution_count": 6,
   "metadata": {},
   "outputs": [],
   "source": [
    "a=[[11, 12, 13, 14],\n",
    "\n",
    " [15, 16, 17, 18],\n",
    "\n",
    " [19, 20, 21, 22]]\n",
    "\n",
    "b=np.array(a)"
   ]
  },
  {
   "cell_type": "code",
   "execution_count": 7,
   "metadata": {},
   "outputs": [
    {
     "data": {
      "text/plain": [
       "array([[16, 17],\n",
       "       [20, 21]])"
      ]
     },
     "execution_count": 7,
     "metadata": {},
     "output_type": "execute_result"
    }
   ],
   "source": [
    "b[1:3,1:3]"
   ]
  },
  {
   "cell_type": "code",
   "execution_count": 8,
   "metadata": {},
   "outputs": [
    {
     "data": {
      "text/plain": [
       "array([[16, 17],\n",
       "       [20, 21]])"
      ]
     },
     "execution_count": 8,
     "metadata": {},
     "output_type": "execute_result"
    }
   ],
   "source": [
    "b[1:,1:3]"
   ]
  },
  {
   "cell_type": "code",
   "execution_count": 11,
   "metadata": {},
   "outputs": [
    {
     "data": {
      "text/plain": [
       "array([[16, 17],\n",
       "       [20, 21]])"
      ]
     },
     "execution_count": 11,
     "metadata": {},
     "output_type": "execute_result"
    }
   ],
   "source": [
    "b[-2:,-3:-1]"
   ]
  },
  {
   "cell_type": "code",
   "execution_count": 12,
   "metadata": {},
   "outputs": [
    {
     "data": {
      "text/plain": [
       "array([[16, 17, 18],\n",
       "       [20, 21, 22]])"
      ]
     },
     "execution_count": 12,
     "metadata": {},
     "output_type": "execute_result"
    }
   ],
   "source": [
    "b[1:,1:]"
   ]
  },
  {
   "cell_type": "code",
   "execution_count": 3,
   "metadata": {},
   "outputs": [
    {
     "data": {
      "text/plain": [
       "45"
      ]
     },
     "execution_count": 3,
     "metadata": {},
     "output_type": "execute_result"
    }
   ],
   "source": [
    "import datetime\n",
    "n = datetime.datetime.now()\n",
    "n.isocalendar()\n",
    "# (2017, 45, 1)\n",
    "n = datetime.datetime(2017, 11, 6)\n",
    "n.isocalendar()\n",
    "n.isocalendar()[1]\n",
    "# (2017, 44, 7)"
   ]
  },
  {
   "cell_type": "code",
   "execution_count": 7,
   "metadata": {},
   "outputs": [],
   "source": [
    "age = {\"a\":[19,20,23,46,21,25,26,25,28,31,37,24,28,34,38,33,32,29,27,24]}"
   ]
  },
  {
   "cell_type": "code",
   "execution_count": 8,
   "metadata": {},
   "outputs": [],
   "source": [
    "import pandas as pd\n",
    "import numpy as np"
   ]
  },
  {
   "cell_type": "code",
   "execution_count": 9,
   "metadata": {},
   "outputs": [],
   "source": [
    "b=pd.DataFrame(age)"
   ]
  },
  {
   "cell_type": "code",
   "execution_count": null,
   "metadata": {},
   "outputs": [],
   "source": []
  },
  {
   "cell_type": "code",
   "execution_count": 10,
   "metadata": {},
   "outputs": [
    {
     "data": {
      "text/html": [
       "<div>\n",
       "<style scoped>\n",
       "    .dataframe tbody tr th:only-of-type {\n",
       "        vertical-align: middle;\n",
       "    }\n",
       "\n",
       "    .dataframe tbody tr th {\n",
       "        vertical-align: top;\n",
       "    }\n",
       "\n",
       "    .dataframe thead th {\n",
       "        text-align: right;\n",
       "    }\n",
       "</style>\n",
       "<table border=\"1\" class=\"dataframe\">\n",
       "  <thead>\n",
       "    <tr style=\"text-align: right;\">\n",
       "      <th></th>\n",
       "      <th>a</th>\n",
       "    </tr>\n",
       "  </thead>\n",
       "  <tbody>\n",
       "    <tr>\n",
       "      <th>count</th>\n",
       "      <td>20.0000</td>\n",
       "    </tr>\n",
       "    <tr>\n",
       "      <th>mean</th>\n",
       "      <td>28.5000</td>\n",
       "    </tr>\n",
       "    <tr>\n",
       "      <th>std</th>\n",
       "      <td>6.7317</td>\n",
       "    </tr>\n",
       "    <tr>\n",
       "      <th>min</th>\n",
       "      <td>19.0000</td>\n",
       "    </tr>\n",
       "    <tr>\n",
       "      <th>25%</th>\n",
       "      <td>24.0000</td>\n",
       "    </tr>\n",
       "    <tr>\n",
       "      <th>50%</th>\n",
       "      <td>27.5000</td>\n",
       "    </tr>\n",
       "    <tr>\n",
       "      <th>75%</th>\n",
       "      <td>32.2500</td>\n",
       "    </tr>\n",
       "    <tr>\n",
       "      <th>max</th>\n",
       "      <td>46.0000</td>\n",
       "    </tr>\n",
       "  </tbody>\n",
       "</table>\n",
       "</div>"
      ],
      "text/plain": [
       "             a\n",
       "count  20.0000\n",
       "mean   28.5000\n",
       "std     6.7317\n",
       "min    19.0000\n",
       "25%    24.0000\n",
       "50%    27.5000\n",
       "75%    32.2500\n",
       "max    46.0000"
      ]
     },
     "execution_count": 10,
     "metadata": {},
     "output_type": "execute_result"
    }
   ],
   "source": [
    "b.describe()"
   ]
  },
  {
   "cell_type": "code",
   "execution_count": 11,
   "metadata": {},
   "outputs": [],
   "source": [
    "%config Completer.use_jedi = False"
   ]
  },
  {
   "cell_type": "code",
   "execution_count": 1,
   "metadata": {},
   "outputs": [],
   "source": [
    "import pandas as pd \n",
    "import seaborn as sns\n",
    "df =pd.read_csv('problem1.csv')"
   ]
  },
  {
   "cell_type": "code",
   "execution_count": 2,
   "metadata": {},
   "outputs": [],
   "source": [
    "df['date'] =df['year'].astype('str')+'-'+df['month'].astype('str')+'-'+df['day'].astype('str')"
   ]
  },
  {
   "cell_type": "code",
   "execution_count": 3,
   "metadata": {},
   "outputs": [],
   "source": [
    "df['date'] = pd.to_datetime(df['date'])"
   ]
  },
  {
   "cell_type": "code",
   "execution_count": 4,
   "metadata": {},
   "outputs": [
    {
     "data": {
      "text/plain": [
       "0      2016-01-01\n",
       "1      2016-01-02\n",
       "2      2016-01-03\n",
       "3      2016-01-04\n",
       "4      2016-01-05\n",
       "          ...    \n",
       "343    2016-12-27\n",
       "344    2016-12-28\n",
       "345    2016-12-29\n",
       "346    2016-12-30\n",
       "347    2016-12-31\n",
       "Name: date, Length: 348, dtype: object"
      ]
     },
     "execution_count": 4,
     "metadata": {},
     "output_type": "execute_result"
    }
   ],
   "source": [
    "df['date'].dt.strftime('%Y-%m-%d')"
   ]
  },
  {
   "cell_type": "code",
   "execution_count": 5,
   "metadata": {},
   "outputs": [
    {
     "data": {
      "text/plain": [
       "0     2016-01-01\n",
       "1     2016-01-02\n",
       "2     2016-01-03\n",
       "3     2016-01-04\n",
       "4     2016-01-05\n",
       "         ...    \n",
       "343   2016-12-27\n",
       "344   2016-12-28\n",
       "345   2016-12-29\n",
       "346   2016-12-30\n",
       "347   2016-12-31\n",
       "Name: date, Length: 348, dtype: datetime64[ns]"
      ]
     },
     "execution_count": 5,
     "metadata": {},
     "output_type": "execute_result"
    }
   ],
   "source": [
    "df['date']"
   ]
  },
  {
   "cell_type": "code",
   "execution_count": 33,
   "metadata": {},
   "outputs": [
    {
     "data": {
      "text/plain": [
       "array(['2016-01-01', '2016-01-02', '2016-01-03', '2016-01-04',\n",
       "       '2016-01-05', '2016-01-06', '2016-01-07', '2016-01-08',\n",
       "       '2016-01-09', '2016-01-10', '2016-01-11', '2016-01-12',\n",
       "       '2016-01-13', '2016-01-14', '2016-01-15', '2016-01-16',\n",
       "       '2016-01-17', '2016-01-18', '2016-01-19', '2016-01-20',\n",
       "       '2016-01-21', '2016-01-22', '2016-01-23', '2016-01-24',\n",
       "       '2016-01-25', '2016-01-26', '2016-01-27', '2016-01-28',\n",
       "       '2016-01-29', '2016-01-30', '2016-01-31', '2016-02-01',\n",
       "       '2016-02-02', '2016-02-03', '2016-02-04', '2016-02-05',\n",
       "       '2016-02-06', '2016-02-07', '2016-02-08', '2016-02-09',\n",
       "       '2016-02-10', '2016-02-11', '2016-02-12', '2016-02-13',\n",
       "       '2016-02-14', '2016-02-15', '2016-02-16', '2016-02-17',\n",
       "       '2016-02-18', '2016-02-19', '2016-02-20', '2016-02-21',\n",
       "       '2016-02-22', '2016-02-23', '2016-02-24', '2016-02-25',\n",
       "       '2016-02-26', '2016-02-27', '2016-02-28', '2016-02-29',\n",
       "       '2016-03-01', '2016-03-02', '2016-03-03', '2016-03-04',\n",
       "       '2016-03-05', '2016-03-06', '2016-03-07', '2016-03-08',\n",
       "       '2016-03-09', '2016-03-10', '2016-03-11', '2016-03-12',\n",
       "       '2016-03-13', '2016-03-14', '2016-03-15', '2016-03-16',\n",
       "       '2016-03-17', '2016-03-18', '2016-03-19', '2016-03-20',\n",
       "       '2016-03-21', '2016-03-22', '2016-03-23', '2016-03-24',\n",
       "       '2016-03-25', '2016-03-26', '2016-03-27', '2016-03-28',\n",
       "       '2016-03-29', '2016-03-30', '2016-03-31', '2016-04-01',\n",
       "       '2016-04-02', '2016-04-03', '2016-04-04', '2016-04-05',\n",
       "       '2016-04-06', '2016-04-07', '2016-04-08', '2016-04-09',\n",
       "       '2016-04-10', '2016-04-11', '2016-04-12', '2016-04-13',\n",
       "       '2016-04-14', '2016-04-15', '2016-04-16', '2016-04-17',\n",
       "       '2016-04-18', '2016-04-19', '2016-04-20', '2016-04-21',\n",
       "       '2016-04-22', '2016-04-23', '2016-04-24', '2016-04-25',\n",
       "       '2016-04-26', '2016-04-27', '2016-04-28', '2016-04-29',\n",
       "       '2016-04-30', '2016-05-01', '2016-05-02', '2016-05-03',\n",
       "       '2016-05-04', '2016-05-05', '2016-05-06', '2016-05-07',\n",
       "       '2016-05-08', '2016-05-09', '2016-05-10', '2016-05-11',\n",
       "       '2016-05-12', '2016-05-13', '2016-05-14', '2016-05-15',\n",
       "       '2016-05-16', '2016-05-17', '2016-05-18', '2016-05-19',\n",
       "       '2016-05-20', '2016-05-21', '2016-05-22', '2016-05-23',\n",
       "       '2016-05-24', '2016-05-25', '2016-05-26', '2016-05-27',\n",
       "       '2016-05-28', '2016-05-29', '2016-05-30', '2016-05-31',\n",
       "       '2016-06-01', '2016-06-02', '2016-06-03', '2016-06-04',\n",
       "       '2016-06-05', '2016-06-06', '2016-06-07', '2016-06-08',\n",
       "       '2016-06-09', '2016-06-10', '2016-06-11', '2016-06-12',\n",
       "       '2016-06-13', '2016-06-14', '2016-06-15', '2016-06-16',\n",
       "       '2016-06-17', '2016-06-18', '2016-06-19', '2016-06-20',\n",
       "       '2016-06-21', '2016-06-22', '2016-06-23', '2016-06-24',\n",
       "       '2016-06-25', '2016-06-26', '2016-06-27', '2016-06-28',\n",
       "       '2016-06-29', '2016-06-30', '2016-07-01', '2016-07-02',\n",
       "       '2016-07-03', '2016-07-04', '2016-07-05', '2016-07-06',\n",
       "       '2016-07-07', '2016-07-08', '2016-07-09', '2016-07-10',\n",
       "       '2016-07-11', '2016-07-12', '2016-07-13', '2016-07-14',\n",
       "       '2016-07-15', '2016-07-16', '2016-07-17', '2016-07-18',\n",
       "       '2016-07-19', '2016-07-20', '2016-07-21', '2016-07-22',\n",
       "       '2016-07-23', '2016-07-24', '2016-07-25', '2016-07-26',\n",
       "       '2016-07-27', '2016-07-28', '2016-07-29', '2016-07-30',\n",
       "       '2016-07-31', '2016-08-01', '2016-08-02', '2016-08-03',\n",
       "       '2016-08-04', '2016-08-05', '2016-08-06', '2016-08-07',\n",
       "       '2016-08-08', '2016-08-09', '2016-08-10', '2016-08-11',\n",
       "       '2016-08-12', '2016-08-13', '2016-08-14', '2016-08-15',\n",
       "       '2016-08-16', '2016-08-17', '2016-08-18', '2016-08-19',\n",
       "       '2016-08-20', '2016-08-21', '2016-08-22', '2016-08-23',\n",
       "       '2016-08-24', '2016-08-25', '2016-08-26', '2016-08-27',\n",
       "       '2016-08-28', '2016-08-29', '2016-08-30', '2016-08-31',\n",
       "       '2016-09-01', '2016-09-02', '2016-09-03', '2016-09-04',\n",
       "       '2016-09-05', '2016-09-06', '2016-09-07', '2016-09-08',\n",
       "       '2016-09-09', '2016-09-10', '2016-09-11', '2016-09-12',\n",
       "       '2016-09-13', '2016-09-14', '2016-09-15', '2016-09-16',\n",
       "       '2016-09-17', '2016-09-18', '2016-09-19', '2016-09-20',\n",
       "       '2016-09-21', '2016-09-22', '2016-09-23', '2016-09-24',\n",
       "       '2016-09-25', '2016-09-26', '2016-09-27', '2016-09-28',\n",
       "       '2016-09-29', '2016-09-30', '2016-10-01', '2016-10-02',\n",
       "       '2016-10-03', '2016-10-04', '2016-10-05', '2016-10-06',\n",
       "       '2016-10-07', '2016-10-08', '2016-10-09', '2016-10-10',\n",
       "       '2016-10-11', '2016-10-12', '2016-10-13', '2016-10-14',\n",
       "       '2016-10-15', '2016-10-16', '2016-10-17', '2016-10-18',\n",
       "       '2016-10-19', '2016-10-20', '2016-10-21', '2016-10-22',\n",
       "       '2016-10-23', '2016-10-24', '2016-10-25', '2016-10-26',\n",
       "       '2016-10-27', '2016-10-28', '2016-10-29', '2016-10-30',\n",
       "       '2016-10-31', '2016-11-01', '2016-11-02', '2016-11-03',\n",
       "       '2016-11-04', '2016-11-05', '2016-11-06', '2016-11-07',\n",
       "       '2016-11-08', '2016-11-09', '2016-11-10', '2016-11-11',\n",
       "       '2016-11-12', '2016-11-13', '2016-11-14', '2016-11-15',\n",
       "       '2016-11-16', '2016-11-17', '2016-11-18', '2016-11-19',\n",
       "       '2016-11-20', '2016-11-21', '2016-11-22', '2016-11-23',\n",
       "       '2016-11-24', '2016-11-25', '2016-11-26', '2016-11-27',\n",
       "       '2016-11-28', '2016-11-29', '2016-11-30', '2016-12-01',\n",
       "       '2016-12-02', '2016-12-03', '2016-12-04', '2016-12-05',\n",
       "       '2016-12-06', '2016-12-07', '2016-12-08', '2016-12-09',\n",
       "       '2016-12-10', '2016-12-11', '2016-12-12', '2016-12-13',\n",
       "       '2016-12-14', '2016-12-15', '2016-12-16', '2016-12-17',\n",
       "       '2016-12-18', '2016-12-19', '2016-12-20', '2016-12-21',\n",
       "       '2016-12-22', '2016-12-23', '2016-12-24', '2016-12-25',\n",
       "       '2016-12-26', '2016-12-27', '2016-12-28', '2016-12-29',\n",
       "       '2016-12-30', '2016-12-31'], dtype=object)"
      ]
     },
     "execution_count": 33,
     "metadata": {},
     "output_type": "execute_result"
    }
   ],
   "source": [
    "v = pd.DataFrame(pd.date_range(start=df['date'].dt.strftime('%Y-%m-%d').min(), end=df['date'].dt.strftime('%Y-%m-%d').max()))[0].dt.strftime('%Y-%m-%d').values\n",
    "v"
   ]
  },
  {
   "cell_type": "code",
   "execution_count": 32,
   "metadata": {},
   "outputs": [
    {
     "data": {
      "text/html": [
       "<div>\n",
       "<style scoped>\n",
       "    .dataframe tbody tr th:only-of-type {\n",
       "        vertical-align: middle;\n",
       "    }\n",
       "\n",
       "    .dataframe tbody tr th {\n",
       "        vertical-align: top;\n",
       "    }\n",
       "\n",
       "    .dataframe thead th {\n",
       "        text-align: right;\n",
       "    }\n",
       "</style>\n",
       "<table border=\"1\" class=\"dataframe\">\n",
       "  <thead>\n",
       "    <tr style=\"text-align: right;\">\n",
       "      <th></th>\n",
       "      <th>0</th>\n",
       "    </tr>\n",
       "  </thead>\n",
       "  <tbody>\n",
       "    <tr>\n",
       "      <th>0</th>\n",
       "      <td>2016-01-01</td>\n",
       "    </tr>\n",
       "    <tr>\n",
       "      <th>1</th>\n",
       "      <td>2016-01-02</td>\n",
       "    </tr>\n",
       "    <tr>\n",
       "      <th>2</th>\n",
       "      <td>2016-01-03</td>\n",
       "    </tr>\n",
       "    <tr>\n",
       "      <th>3</th>\n",
       "      <td>2016-01-04</td>\n",
       "    </tr>\n",
       "    <tr>\n",
       "      <th>4</th>\n",
       "      <td>2016-01-05</td>\n",
       "    </tr>\n",
       "    <tr>\n",
       "      <th>...</th>\n",
       "      <td>...</td>\n",
       "    </tr>\n",
       "    <tr>\n",
       "      <th>361</th>\n",
       "      <td>2016-12-27</td>\n",
       "    </tr>\n",
       "    <tr>\n",
       "      <th>362</th>\n",
       "      <td>2016-12-28</td>\n",
       "    </tr>\n",
       "    <tr>\n",
       "      <th>363</th>\n",
       "      <td>2016-12-29</td>\n",
       "    </tr>\n",
       "    <tr>\n",
       "      <th>364</th>\n",
       "      <td>2016-12-30</td>\n",
       "    </tr>\n",
       "    <tr>\n",
       "      <th>365</th>\n",
       "      <td>2016-12-31</td>\n",
       "    </tr>\n",
       "  </tbody>\n",
       "</table>\n",
       "<p>366 rows × 1 columns</p>\n",
       "</div>"
      ],
      "text/plain": [
       "             0\n",
       "0   2016-01-01\n",
       "1   2016-01-02\n",
       "2   2016-01-03\n",
       "3   2016-01-04\n",
       "4   2016-01-05\n",
       "..         ...\n",
       "361 2016-12-27\n",
       "362 2016-12-28\n",
       "363 2016-12-29\n",
       "364 2016-12-30\n",
       "365 2016-12-31\n",
       "\n",
       "[366 rows x 1 columns]"
      ]
     },
     "execution_count": 32,
     "metadata": {},
     "output_type": "execute_result"
    }
   ],
   "source": [
    "v1 = pd.DataFrame(pd.date_range(df['date'].min(), df['date'].max()))\n",
    "v1"
   ]
  },
  {
   "cell_type": "code",
   "execution_count": 38,
   "metadata": {},
   "outputs": [
    {
     "name": "stdout",
     "output_type": "stream",
     "text": [
      "<class 'pandas.core.series.Series'>\n"
     ]
    }
   ],
   "source": [
    "print(type(v1[0]))"
   ]
  },
  {
   "cell_type": "code",
   "execution_count": 39,
   "metadata": {},
   "outputs": [
    {
     "name": "stdout",
     "output_type": "stream",
     "text": [
      "<class 'numpy.ndarray'>\n"
     ]
    }
   ],
   "source": [
    "print(type(v))"
   ]
  },
  {
   "cell_type": "code",
   "execution_count": 28,
   "metadata": {},
   "outputs": [],
   "source": [
    "a=set(v) - set(df['date'].dt.strftime('%Y-%m-%d'))\n",
    "a1=set(v1) - set(df['date'])"
   ]
  },
  {
   "cell_type": "code",
   "execution_count": 29,
   "metadata": {},
   "outputs": [
    {
     "data": {
      "text/plain": [
       "{'2016-02-13',\n",
       " '2016-02-14',\n",
       " '2016-02-29',\n",
       " '2016-08-17',\n",
       " '2016-08-18',\n",
       " '2016-08-19',\n",
       " '2016-08-20',\n",
       " '2016-08-21',\n",
       " '2016-08-22',\n",
       " '2016-08-24',\n",
       " '2016-08-25',\n",
       " '2016-08-26',\n",
       " '2016-08-27',\n",
       " '2016-08-29',\n",
       " '2016-08-31',\n",
       " '2016-09-01',\n",
       " '2016-09-02',\n",
       " '2016-10-30'}"
      ]
     },
     "execution_count": 29,
     "metadata": {},
     "output_type": "execute_result"
    }
   ],
   "source": [
    "a"
   ]
  },
  {
   "cell_type": "code",
   "execution_count": 30,
   "metadata": {},
   "outputs": [
    {
     "data": {
      "text/plain": [
       "{Timestamp('2016-02-13 00:00:00'),\n",
       " Timestamp('2016-02-14 00:00:00'),\n",
       " Timestamp('2016-02-29 00:00:00'),\n",
       " Timestamp('2016-08-17 00:00:00'),\n",
       " Timestamp('2016-08-18 00:00:00'),\n",
       " Timestamp('2016-08-19 00:00:00'),\n",
       " Timestamp('2016-08-20 00:00:00'),\n",
       " Timestamp('2016-08-21 00:00:00'),\n",
       " Timestamp('2016-08-22 00:00:00'),\n",
       " Timestamp('2016-08-24 00:00:00'),\n",
       " Timestamp('2016-08-25 00:00:00'),\n",
       " Timestamp('2016-08-26 00:00:00'),\n",
       " Timestamp('2016-08-27 00:00:00'),\n",
       " Timestamp('2016-08-29 00:00:00'),\n",
       " Timestamp('2016-08-31 00:00:00'),\n",
       " Timestamp('2016-09-01 00:00:00'),\n",
       " Timestamp('2016-09-02 00:00:00'),\n",
       " Timestamp('2016-10-30 00:00:00')}"
      ]
     },
     "execution_count": 30,
     "metadata": {},
     "output_type": "execute_result"
    }
   ],
   "source": [
    "a1"
   ]
  },
  {
   "cell_type": "code",
   "execution_count": 31,
   "metadata": {},
   "outputs": [
    {
     "data": {
      "text/plain": [
       "18"
      ]
     },
     "execution_count": 31,
     "metadata": {},
     "output_type": "execute_result"
    }
   ],
   "source": [
    "len(a1)"
   ]
  },
  {
   "cell_type": "code",
   "execution_count": 26,
   "metadata": {},
   "outputs": [
    {
     "data": {
      "text/plain": [
       "0     2016-01-01\n",
       "1     2016-01-02\n",
       "2     2016-01-03\n",
       "3     2016-01-04\n",
       "4     2016-01-05\n",
       "         ...    \n",
       "343   2016-12-27\n",
       "344   2016-12-28\n",
       "345   2016-12-29\n",
       "346   2016-12-30\n",
       "347   2016-12-31\n",
       "Name: date, Length: 348, dtype: datetime64[ns]"
      ]
     },
     "execution_count": 26,
     "metadata": {},
     "output_type": "execute_result"
    }
   ],
   "source": [
    "df['date']"
   ]
  },
  {
   "cell_type": "code",
   "execution_count": 11,
   "metadata": {},
   "outputs": [],
   "source": [
    "import numpy as np\n",
    "import pandas as pd\n",
    "\n",
    "import matplotlib.pyplot as plt\n",
    "import seaborn as sns\n",
    "import scipy.stats as spst"
   ]
  },
  {
   "cell_type": "code",
   "execution_count": 12,
   "metadata": {},
   "outputs": [],
   "source": [
    "a = pd.read_csv('https://raw.githubusercontent.com/DA4BAM/dataset/master/boston.csv')"
   ]
  },
  {
   "cell_type": "code",
   "execution_count": 13,
   "metadata": {},
   "outputs": [
    {
     "data": {
      "text/html": [
       "<div>\n",
       "<style scoped>\n",
       "    .dataframe tbody tr th:only-of-type {\n",
       "        vertical-align: middle;\n",
       "    }\n",
       "\n",
       "    .dataframe tbody tr th {\n",
       "        vertical-align: top;\n",
       "    }\n",
       "\n",
       "    .dataframe thead th {\n",
       "        text-align: right;\n",
       "    }\n",
       "</style>\n",
       "<table border=\"1\" class=\"dataframe\">\n",
       "  <thead>\n",
       "    <tr style=\"text-align: right;\">\n",
       "      <th></th>\n",
       "      <th>crim</th>\n",
       "      <th>zn</th>\n",
       "      <th>indus</th>\n",
       "      <th>chas</th>\n",
       "      <th>nox</th>\n",
       "      <th>rm</th>\n",
       "      <th>age</th>\n",
       "      <th>dis</th>\n",
       "      <th>rad</th>\n",
       "      <th>tax</th>\n",
       "      <th>ptratio</th>\n",
       "      <th>lstat</th>\n",
       "      <th>medv</th>\n",
       "    </tr>\n",
       "  </thead>\n",
       "  <tbody>\n",
       "    <tr>\n",
       "      <th>0</th>\n",
       "      <td>0.00632</td>\n",
       "      <td>18.0</td>\n",
       "      <td>2.31</td>\n",
       "      <td>0</td>\n",
       "      <td>0.538</td>\n",
       "      <td>6.575</td>\n",
       "      <td>65.2</td>\n",
       "      <td>4.0900</td>\n",
       "      <td>1</td>\n",
       "      <td>296</td>\n",
       "      <td>15.3</td>\n",
       "      <td>4.98</td>\n",
       "      <td>24.0</td>\n",
       "    </tr>\n",
       "    <tr>\n",
       "      <th>1</th>\n",
       "      <td>0.02731</td>\n",
       "      <td>0.0</td>\n",
       "      <td>7.07</td>\n",
       "      <td>0</td>\n",
       "      <td>0.469</td>\n",
       "      <td>6.421</td>\n",
       "      <td>78.9</td>\n",
       "      <td>4.9671</td>\n",
       "      <td>2</td>\n",
       "      <td>242</td>\n",
       "      <td>17.8</td>\n",
       "      <td>9.14</td>\n",
       "      <td>21.6</td>\n",
       "    </tr>\n",
       "    <tr>\n",
       "      <th>2</th>\n",
       "      <td>0.02729</td>\n",
       "      <td>0.0</td>\n",
       "      <td>7.07</td>\n",
       "      <td>0</td>\n",
       "      <td>0.469</td>\n",
       "      <td>7.185</td>\n",
       "      <td>61.1</td>\n",
       "      <td>4.9671</td>\n",
       "      <td>2</td>\n",
       "      <td>242</td>\n",
       "      <td>17.8</td>\n",
       "      <td>4.03</td>\n",
       "      <td>34.7</td>\n",
       "    </tr>\n",
       "    <tr>\n",
       "      <th>3</th>\n",
       "      <td>0.03237</td>\n",
       "      <td>0.0</td>\n",
       "      <td>2.18</td>\n",
       "      <td>0</td>\n",
       "      <td>0.458</td>\n",
       "      <td>6.998</td>\n",
       "      <td>45.8</td>\n",
       "      <td>6.0622</td>\n",
       "      <td>3</td>\n",
       "      <td>222</td>\n",
       "      <td>18.7</td>\n",
       "      <td>2.94</td>\n",
       "      <td>33.4</td>\n",
       "    </tr>\n",
       "    <tr>\n",
       "      <th>4</th>\n",
       "      <td>0.06905</td>\n",
       "      <td>0.0</td>\n",
       "      <td>2.18</td>\n",
       "      <td>0</td>\n",
       "      <td>0.458</td>\n",
       "      <td>7.147</td>\n",
       "      <td>54.2</td>\n",
       "      <td>6.0622</td>\n",
       "      <td>3</td>\n",
       "      <td>222</td>\n",
       "      <td>18.7</td>\n",
       "      <td>5.33</td>\n",
       "      <td>36.2</td>\n",
       "    </tr>\n",
       "  </tbody>\n",
       "</table>\n",
       "</div>"
      ],
      "text/plain": [
       "      crim    zn  indus  chas    nox     rm   age     dis  rad  tax  ptratio  \\\n",
       "0  0.00632  18.0   2.31     0  0.538  6.575  65.2  4.0900    1  296     15.3   \n",
       "1  0.02731   0.0   7.07     0  0.469  6.421  78.9  4.9671    2  242     17.8   \n",
       "2  0.02729   0.0   7.07     0  0.469  7.185  61.1  4.9671    2  242     17.8   \n",
       "3  0.03237   0.0   2.18     0  0.458  6.998  45.8  6.0622    3  222     18.7   \n",
       "4  0.06905   0.0   2.18     0  0.458  7.147  54.2  6.0622    3  222     18.7   \n",
       "\n",
       "   lstat  medv  \n",
       "0   4.98  24.0  \n",
       "1   9.14  21.6  \n",
       "2   4.03  34.7  \n",
       "3   2.94  33.4  \n",
       "4   5.33  36.2  "
      ]
     },
     "execution_count": 13,
     "metadata": {},
     "output_type": "execute_result"
    }
   ],
   "source": [
    "a.head()"
   ]
  },
  {
   "cell_type": "code",
   "execution_count": 16,
   "metadata": {},
   "outputs": [
    {
     "data": {
      "text/plain": [
       "PearsonRResult(statistic=-0.4685359335677671, pvalue=5.637733627689083e-29)"
      ]
     },
     "execution_count": 16,
     "metadata": {},
     "output_type": "execute_result"
    }
   ],
   "source": [
    "spst.pearsonr(round(a['tax'],4), a['medv'])"
   ]
  },
  {
   "cell_type": "code",
   "execution_count": 17,
   "metadata": {},
   "outputs": [],
   "source": [
    "a[\"tax1\"]=round(a[\"tax\"],4)"
   ]
  },
  {
   "cell_type": "code",
   "execution_count": 18,
   "metadata": {},
   "outputs": [
    {
     "data": {
      "text/plain": [
       "PearsonRResult(statistic=-0.4685359335677671, pvalue=5.637733627689083e-29)"
      ]
     },
     "execution_count": 18,
     "metadata": {},
     "output_type": "execute_result"
    }
   ],
   "source": [
    "spst.pearsonr(a['tax1'], a['medv'])"
   ]
  },
  {
   "cell_type": "code",
   "execution_count": 19,
   "metadata": {},
   "outputs": [
    {
     "data": {
      "text/plain": [
       "PearsonRResult(statistic=-0.4685359335677671, pvalue=5.637733627689083e-29)"
      ]
     },
     "execution_count": 19,
     "metadata": {},
     "output_type": "execute_result"
    }
   ],
   "source": [
    "spst.pearsonr(a['tax'], a['medv'])"
   ]
  },
  {
   "cell_type": "code",
   "execution_count": null,
   "metadata": {},
   "outputs": [],
   "source": []
  }
 ],
 "metadata": {
  "kernelspec": {
   "display_name": "Python 3 (ipykernel)",
   "language": "python",
   "name": "python3"
  },
  "language_info": {
   "codemirror_mode": {
    "name": "ipython",
    "version": 3
   },
   "file_extension": ".py",
   "mimetype": "text/x-python",
   "name": "python",
   "nbconvert_exporter": "python",
   "pygments_lexer": "ipython3",
   "version": "3.9.13"
  }
 },
 "nbformat": 4,
 "nbformat_minor": 2
}
