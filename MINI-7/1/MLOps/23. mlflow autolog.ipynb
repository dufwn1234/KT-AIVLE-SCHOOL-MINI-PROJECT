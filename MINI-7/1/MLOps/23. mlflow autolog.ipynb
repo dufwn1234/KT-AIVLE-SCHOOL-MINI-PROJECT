{
 "cells": [
  {
   "attachments": {},
   "cell_type": "markdown",
   "metadata": {
    "id": "cVB9pY-v8uv5"
   },
   "source": [
    "# mlflow - autolog"
   ]
  },
  {
   "attachments": {},
   "cell_type": "markdown",
   "metadata": {
    "id": "qTa9LlwZD_aa"
   },
   "source": [
    "## 1.환경준비"
   ]
  },
  {
   "attachments": {},
   "cell_type": "markdown",
   "metadata": {
    "id": "gIN5d51gtker"
   },
   "source": [
    "### (1) 라이브러리 Import"
   ]
  },
  {
   "attachments": {},
   "cell_type": "markdown",
   "metadata": {
    "id": "gwwtS-m0K-W3"
   },
   "source": [
    "* 라이브러리 로딩"
   ]
  },
  {
   "cell_type": "code",
   "execution_count": 1,
   "metadata": {
    "id": "GVvCef6A8uv6",
    "tags": []
   },
   "outputs": [],
   "source": [
    "import pandas as pd\n",
    "import numpy as np\n",
    "import matplotlib.pyplot as plt\n",
    "import seaborn as sns\n",
    "\n",
    "from sklearn.model_selection import train_test_split\n",
    "from sklearn.metrics import *\n",
    "from sklearn.preprocessing import MinMaxScaler\n",
    "\n",
    "import mlflow"
   ]
  },
  {
   "attachments": {},
   "cell_type": "markdown",
   "metadata": {
    "id": "nYu36ylTK-W4"
   },
   "source": [
    "### (2) 데이터 불러오기"
   ]
  },
  {
   "attachments": {},
   "cell_type": "markdown",
   "metadata": {
    "id": "lZoMs28MEi_n"
   },
   "source": [
    "* 카시트 판매량 데이터"
   ]
  },
  {
   "attachments": {},
   "cell_type": "markdown",
   "metadata": {
    "id": "zk45NDTSEoBh"
   },
   "source": [
    "|\t변수명\t|\t설명\t|\t구분\t|\n",
    "|----|----|----|\n",
    "|\t**Sales** \t|\t **각 지역 판매량(단위 : 1000개)**\t|\t**Target**\t|\n",
    "|\tCompPrice \t|\t지역별 경쟁사 판매가격(달러)\t|\tfeature\t|\n",
    "|\tIncome \t|\t가구당 평균 소득액(1000달러)\t|\tfeature\t|\n",
    "|\tAdvertising \t|\t 각 지역, 회사의 광고 예산(1000달러)\t|\tfeature\t|\n",
    "|\tPopulation \t|\t 지역 인구수(단위 : 1000명)\t|\tfeature\t|\n",
    "|\tPrice \t|\t 자사 지역별 판매가격(달러)\t|\tfeature\t|\n",
    "|\tShelveLoc \t|\t 진열상태(범주 : Bad, Medium, Good)\t|\tfeature\t|\n",
    "|\tAge \t|\t 지역 인구의 평균 연령\t|\tfeature\t|\n",
    "|\tEducation \t|\t 교육수준(범주 : 10~18)\t|\tfeature\t|\n",
    "|\tUrban \t|\t 매장이 도심에 있는지 여부(범주 : Yes, No)\t|\tfeature\t|\n",
    "|\tUS \t|\t 매장이 미국에 있는지 여부(범주 : Yes, No)\t|\tfeature\t|\n"
   ]
  },
  {
   "attachments": {},
   "cell_type": "markdown",
   "metadata": {
    "id": "KF3g3YrNAQLV"
   },
   "source": [
    "* 데이터 경로 : https://raw.githubusercontent.com/DA4BAM/dataset/master/Carseats.csv"
   ]
  },
  {
   "cell_type": "code",
   "execution_count": 2,
   "metadata": {
    "id": "fiiwGWqgEaa5",
    "tags": []
   },
   "outputs": [
    {
     "data": {
      "text/html": [
       "<div>\n",
       "<style scoped>\n",
       "    .dataframe tbody tr th:only-of-type {\n",
       "        vertical-align: middle;\n",
       "    }\n",
       "\n",
       "    .dataframe tbody tr th {\n",
       "        vertical-align: top;\n",
       "    }\n",
       "\n",
       "    .dataframe thead th {\n",
       "        text-align: right;\n",
       "    }\n",
       "</style>\n",
       "<table border=\"1\" class=\"dataframe\">\n",
       "  <thead>\n",
       "    <tr style=\"text-align: right;\">\n",
       "      <th></th>\n",
       "      <th>Sales</th>\n",
       "      <th>CompPrice</th>\n",
       "      <th>Income</th>\n",
       "      <th>Advertising</th>\n",
       "      <th>Population</th>\n",
       "      <th>Price</th>\n",
       "      <th>ShelveLoc</th>\n",
       "      <th>Age</th>\n",
       "      <th>Education</th>\n",
       "      <th>Urban</th>\n",
       "      <th>US</th>\n",
       "    </tr>\n",
       "  </thead>\n",
       "  <tbody>\n",
       "    <tr>\n",
       "      <th>0</th>\n",
       "      <td>9.50</td>\n",
       "      <td>138</td>\n",
       "      <td>73</td>\n",
       "      <td>11</td>\n",
       "      <td>276</td>\n",
       "      <td>120</td>\n",
       "      <td>Bad</td>\n",
       "      <td>42</td>\n",
       "      <td>17</td>\n",
       "      <td>Yes</td>\n",
       "      <td>Yes</td>\n",
       "    </tr>\n",
       "    <tr>\n",
       "      <th>1</th>\n",
       "      <td>11.22</td>\n",
       "      <td>111</td>\n",
       "      <td>48</td>\n",
       "      <td>16</td>\n",
       "      <td>260</td>\n",
       "      <td>83</td>\n",
       "      <td>Good</td>\n",
       "      <td>65</td>\n",
       "      <td>10</td>\n",
       "      <td>Yes</td>\n",
       "      <td>Yes</td>\n",
       "    </tr>\n",
       "    <tr>\n",
       "      <th>2</th>\n",
       "      <td>10.06</td>\n",
       "      <td>113</td>\n",
       "      <td>35</td>\n",
       "      <td>10</td>\n",
       "      <td>269</td>\n",
       "      <td>80</td>\n",
       "      <td>Medium</td>\n",
       "      <td>59</td>\n",
       "      <td>12</td>\n",
       "      <td>Yes</td>\n",
       "      <td>Yes</td>\n",
       "    </tr>\n",
       "    <tr>\n",
       "      <th>3</th>\n",
       "      <td>7.40</td>\n",
       "      <td>117</td>\n",
       "      <td>100</td>\n",
       "      <td>4</td>\n",
       "      <td>466</td>\n",
       "      <td>97</td>\n",
       "      <td>Medium</td>\n",
       "      <td>55</td>\n",
       "      <td>14</td>\n",
       "      <td>Yes</td>\n",
       "      <td>Yes</td>\n",
       "    </tr>\n",
       "    <tr>\n",
       "      <th>4</th>\n",
       "      <td>4.15</td>\n",
       "      <td>141</td>\n",
       "      <td>64</td>\n",
       "      <td>3</td>\n",
       "      <td>340</td>\n",
       "      <td>128</td>\n",
       "      <td>Bad</td>\n",
       "      <td>38</td>\n",
       "      <td>13</td>\n",
       "      <td>Yes</td>\n",
       "      <td>No</td>\n",
       "    </tr>\n",
       "  </tbody>\n",
       "</table>\n",
       "</div>"
      ],
      "text/plain": [
       "   Sales  CompPrice  Income  Advertising  Population  Price ShelveLoc  Age   \n",
       "0   9.50        138      73           11         276    120       Bad   42  \\\n",
       "1  11.22        111      48           16         260     83      Good   65   \n",
       "2  10.06        113      35           10         269     80    Medium   59   \n",
       "3   7.40        117     100            4         466     97    Medium   55   \n",
       "4   4.15        141      64            3         340    128       Bad   38   \n",
       "\n",
       "   Education Urban   US  \n",
       "0         17   Yes  Yes  \n",
       "1         10   Yes  Yes  \n",
       "2         12   Yes  Yes  \n",
       "3         14   Yes  Yes  \n",
       "4         13   Yes   No  "
      ]
     },
     "execution_count": 2,
     "metadata": {},
     "output_type": "execute_result"
    }
   ],
   "source": [
    "path = 'https://raw.githubusercontent.com/DA4BAM/dataset/master/Carseats.csv'\n",
    "carseat = pd.read_csv(path)\n",
    "carseat.head()"
   ]
  },
  {
   "attachments": {},
   "cell_type": "markdown",
   "metadata": {
    "id": "pcf-5u15ZYqG",
    "tags": []
   },
   "source": [
    "## 2.전처리 및 추적 준비"
   ]
  },
  {
   "attachments": {},
   "cell_type": "markdown",
   "metadata": {
    "id": "-N_y_wtxcYvv"
   },
   "source": [
    "### (1) 데이터 전처리"
   ]
  },
  {
   "attachments": {},
   "cell_type": "markdown",
   "metadata": {
    "id": "dp279ZAVcYvv",
    "tags": []
   },
   "source": [
    "* 데이터 준비"
   ]
  },
  {
   "cell_type": "code",
   "execution_count": 3,
   "metadata": {
    "id": "nIqNS4utcYvw"
   },
   "outputs": [],
   "source": [
    "target = 'Sales'\n",
    "x = carseat.drop(target, axis=1)\n",
    "y = carseat.loc[:, target]"
   ]
  },
  {
   "attachments": {},
   "cell_type": "markdown",
   "metadata": {
    "id": "Caf9vsxemDj6"
   },
   "source": [
    "* 가변수화"
   ]
  },
  {
   "cell_type": "code",
   "execution_count": 4,
   "metadata": {
    "id": "8ZcBHLh7Rmcy"
   },
   "outputs": [],
   "source": [
    "cat_cols = {'ShelveLoc':['Bad','Medium','Good']\n",
    "            , 'Education':[10,11,12,13,14,15,16,17,18]\n",
    "            , 'US':['No','Yes']\n",
    "            , 'Urban':['No','Yes']}\n",
    "\n",
    "for var, values in cat_cols.items():\n",
    "    x[var] = pd.Categorical(x[var], categories = values)\n",
    "\n",
    "x = pd.get_dummies(x, columns = cat_cols.keys(), drop_first = True)    "
   ]
  },
  {
   "attachments": {},
   "cell_type": "markdown",
   "metadata": {
    "id": "k3amXi18t8bT"
   },
   "source": [
    "* 데이터분할"
   ]
  },
  {
   "cell_type": "code",
   "execution_count": 5,
   "metadata": {
    "id": "cpFuBf0Dt8bT"
   },
   "outputs": [],
   "source": [
    "x_train, x_val, y_train, y_val = train_test_split(x, y, test_size=.2, random_state = 20)"
   ]
  },
  {
   "attachments": {},
   "cell_type": "markdown",
   "metadata": {
    "id": "_87HAmiAK-W6"
   },
   "source": [
    "* 스케일링"
   ]
  },
  {
   "cell_type": "code",
   "execution_count": 6,
   "metadata": {
    "id": "RZLQITMuK-W6"
   },
   "outputs": [],
   "source": [
    "scaler = MinMaxScaler()\n",
    "x_train_s = scaler.fit_transform(x_train)\n",
    "x_val_s = scaler.transform(x_val)"
   ]
  },
  {
   "attachments": {},
   "cell_type": "markdown",
   "metadata": {
    "id": "x-ArN_G0K-W6"
   },
   "source": [
    "### (2) Tracking 준비"
   ]
  },
  {
   "attachments": {},
   "cell_type": "markdown",
   "metadata": {
    "id": "9jNiCwnfK-W6"
   },
   "source": [
    "#### 1) 추적설정"
   ]
  },
  {
   "cell_type": "code",
   "execution_count": 7,
   "metadata": {
    "id": "CVz4EZ_gK-W7"
   },
   "outputs": [],
   "source": [
    "mlflow_uri = \"sqlite:///mlflow.db\"\n",
    "mlflow.set_tracking_uri(mlflow_uri)"
   ]
  },
  {
   "attachments": {},
   "cell_type": "markdown",
   "metadata": {
    "id": "EyUA5yIRyHyc"
   },
   "source": [
    "#### 2) 새 실험 만들기"
   ]
  },
  {
   "cell_type": "code",
   "execution_count": 8,
   "metadata": {
    "id": "iKDNK9qOK-W7",
    "tags": []
   },
   "outputs": [
    {
     "data": {
      "text/plain": [
       "'2'"
      ]
     },
     "execution_count": 8,
     "metadata": {},
     "output_type": "execute_result"
    }
   ],
   "source": [
    "exp_id = mlflow.create_experiment(\"exp3\")\n",
    "exp_id"
   ]
  },
  {
   "attachments": {},
   "cell_type": "markdown",
   "metadata": {
    "id": "iCTwulQHyHyc",
    "tags": []
   },
   "source": [
    "## 3.autolog 1"
   ]
  },
  {
   "attachments": {},
   "cell_type": "markdown",
   "metadata": {
    "id": "UzBfvK5DK-W7",
    "tags": []
   },
   "source": [
    "### (1) sklearn 알고리즘"
   ]
  },
  {
   "cell_type": "code",
   "execution_count": 9,
   "metadata": {
    "id": "G0wh2Z18K-W7"
   },
   "outputs": [],
   "source": [
    "from sklearn.ensemble import RandomForestRegressor\n",
    "from sklearn.neighbors import KNeighborsRegressor\n",
    "from sklearn.model_selection import GridSearchCV"
   ]
  },
  {
   "attachments": {},
   "cell_type": "markdown",
   "metadata": {
    "id": "rEDwnp1_K-W8",
    "tags": []
   },
   "source": [
    "#### 1) 수동 로깅"
   ]
  },
  {
   "cell_type": "code",
   "execution_count": 10,
   "metadata": {
    "id": "GcOEDDXWK-W8",
    "tags": []
   },
   "outputs": [
    {
     "name": "stderr",
     "output_type": "stream",
     "text": [
      "c:\\Users\\dufwn\\anaconda3\\envs\\ml_pipeline\\lib\\site-packages\\_distutils_hack\\__init__.py:33: UserWarning: Setuptools is replacing distutils.\n",
      "  warnings.warn(\"Setuptools is replacing distutils.\")\n",
      "Successfully registered model 'RF'.\n",
      "2023/05/18 11:51:01 INFO mlflow.tracking._model_registry.client: Waiting up to 300 seconds for model version to finish creation. Model name: RF, version 1\n",
      "Created version '1' of model 'RF'.\n"
     ]
    }
   ],
   "source": [
    "with mlflow.start_run(experiment_id = exp_id):\n",
    "    \n",
    "    model = RandomForestRegressor()\n",
    "    model.fit(x_train, y_train)\n",
    "    \n",
    "    pred = model.predict(x_val)\n",
    "    mlflow.log_metric(\"mae\", mean_absolute_error(y_val, pred))\n",
    "        \n",
    "    # best 모델 기록하기\n",
    "    mlflow.sklearn.log_model(model, \"model\", registered_model_name=\"RF\")"
   ]
  },
  {
   "attachments": {},
   "cell_type": "markdown",
   "metadata": {
    "id": "yoNvYw-jK-W8"
   },
   "source": [
    "#### 2) autolog"
   ]
  },
  {
   "cell_type": "code",
   "execution_count": 11,
   "metadata": {
    "id": "zHO2oWaPK-W8"
   },
   "outputs": [
    {
     "name": "stderr",
     "output_type": "stream",
     "text": [
      "2023/05/18 11:53:54 WARNING mlflow.utils.autologging_utils: MLflow autologging encountered a warning: \"c:\\Users\\dufwn\\anaconda3\\envs\\ml_pipeline\\lib\\site-packages\\mlflow\\models\\signature.py:137: UserWarning: Hint: Inferred schema contains integer column(s). Integer columns in Python cannot represent missing values. If your input data contains missing values at inference time, it will be encoded as floats and will cause a schema enforcement error. The best way to avoid this problem is to infer the model schema based on a realistic data sample (training dataset) that includes missing values. Alternatively, you can declare integer columns as doubles (float64) whenever these columns may have missing values. See `Handling Integers With Missing Values <https://www.mlflow.org/docs/latest/models.html#handling-integers-with-missing-values>`_ for more details.\"\n"
     ]
    }
   ],
   "source": [
    "with mlflow.start_run(experiment_id=exp_id):\n",
    "    \n",
    "    # autolog!\n",
    "    mlflow.sklearn.autolog()\n",
    "    \n",
    "    model = RandomForestRegressor()\n",
    "    model.fit(x_train, y_train)\n",
    "    \n",
    "    mlflow.sklearn.autolog(disable = True)"
   ]
  },
  {
   "attachments": {},
   "cell_type": "markdown",
   "metadata": {
    "id": "rAEiExZVK-W8"
   },
   "source": [
    "* mlflow ui에서 두 결과의 차이를 비교해 봅시다."
   ]
  },
  {
   "attachments": {},
   "cell_type": "markdown",
   "metadata": {
    "id": "oNC9GfEcK-W9"
   },
   "source": [
    "### (2) Grid Search 튜닝"
   ]
  },
  {
   "attachments": {},
   "cell_type": "markdown",
   "metadata": {},
   "source": [
    "#### 1)튜닝 일반 코드"
   ]
  },
  {
   "cell_type": "code",
   "execution_count": 12,
   "metadata": {},
   "outputs": [],
   "source": [
    "# 1.튜닝 ----------------------------------------------\n",
    "## 1) 하이퍼파라미터 범위 설정\n",
    "params = {'n_estimators':range(20,201,20)}\n",
    "\n",
    "## 2) GridSearchCV 모델 선언\n",
    "model = GridSearchCV(RandomForestRegressor(), params, cv = 5)\n",
    "\n",
    "## 3) 학습(튜닝)\n",
    "model.fit(x_train, y_train)\n",
    "\n",
    "# 2.튜닝 결과 데이터프레임을 csv로 저장하기\n",
    "result = pd.DataFrame(model.cv_results_)\n",
    "result[['param_n_estimators', 'mean_test_score','rank_test_score']].to_csv('result.csv', index = False)"
   ]
  },
  {
   "cell_type": "code",
   "execution_count": 13,
   "metadata": {},
   "outputs": [
    {
     "data": {
      "image/png": "[encoded data removed]",
      "text/plain": [
       "<Figure size 640x480 with 1 Axes>"
      ]
     },
     "metadata": {},
     "output_type": "display_data"
    }
   ],
   "source": [
    "# 3.튜닝 결과 그래프\n",
    "plt.plot('param_n_estimators', 'mean_test_score', data = result, marker = '.' )\n",
    "plt.title('RF GridSearch Tuning')\n",
    "plt.ylabel('r2 score')\n",
    "plt.xlabel('n_estimators')\n",
    "plt.grid()    \n",
    "plt.show()"
   ]
  },
  {
   "cell_type": "code",
   "execution_count": 14,
   "metadata": {},
   "outputs": [
    {
     "data": {
      "text/plain": [
       "{'n_estimators': 180}"
      ]
     },
     "execution_count": 14,
     "metadata": {},
     "output_type": "execute_result"
    }
   ],
   "source": [
    "# 가장 성능이 좋았을 때 하이퍼파라미터 값\n",
    "model.best_params_"
   ]
  },
  {
   "cell_type": "code",
   "execution_count": 15,
   "metadata": {},
   "outputs": [
    {
     "data": {
      "text/plain": [
       "0.6857722323279208"
      ]
     },
     "execution_count": 15,
     "metadata": {},
     "output_type": "execute_result"
    }
   ],
   "source": [
    "# 가장 성능이 좋았을 때의 성능\n",
    "model.best_score_"
   ]
  },
  {
   "cell_type": "code",
   "execution_count": 16,
   "metadata": {},
   "outputs": [
    {
     "data": {
      "text/html": [
       "<style>#sk-container-id-2 {color: black;background-color: white;}#sk-container-id-2 pre{padding: 0;}#sk-container-id-2 div.sk-toggleable {background-color: white;}#sk-container-id-2 label.sk-toggleable__label {cursor: pointer;display: block;width: 100%;margin-bottom: 0;padding: 0.3em;box-sizing: border-box;text-align: center;}#sk-container-id-2 label.sk-toggleable__label-arrow:before {content: \"▸\";float: left;margin-right: 0.25em;color: #696969;}#sk-container-id-2 label.sk-toggleable__label-arrow:hover:before {color: black;}#sk-container-id-2 div.sk-estimator:hover label.sk-toggleable__label-arrow:before {color: black;}#sk-container-id-2 div.sk-toggleable__content {max-height: 0;max-width: 0;overflow: hidden;text-align: left;background-color: #f0f8ff;}#sk-container-id-2 div.sk-toggleable__content pre {margin: 0.2em;color: black;border-radius: 0.25em;background-color: #f0f8ff;}#sk-container-id-2 input.sk-toggleable__control:checked~div.sk-toggleable__content {max-height: 200px;max-width: 100%;overflow: auto;}#sk-container-id-2 input.sk-toggleable__control:checked~label.sk-toggleable__label-arrow:before {content: \"▾\";}#sk-container-id-2 div.sk-estimator input.sk-toggleable__control:checked~label.sk-toggleable__label {background-color: #d4ebff;}#sk-container-id-2 div.sk-label input.sk-toggleable__control:checked~label.sk-toggleable__label {background-color: #d4ebff;}#sk-container-id-2 input.sk-hidden--visually {border: 0;clip: rect(1px 1px 1px 1px);clip: rect(1px, 1px, 1px, 1px);height: 1px;margin: -1px;overflow: hidden;padding: 0;position: absolute;width: 1px;}#sk-container-id-2 div.sk-estimator {font-family: monospace;background-color: #f0f8ff;border: 1px dotted black;border-radius: 0.25em;box-sizing: border-box;margin-bottom: 0.5em;}#sk-container-id-2 div.sk-estimator:hover {background-color: #d4ebff;}#sk-container-id-2 div.sk-parallel-item::after {content: \"\";width: 100%;border-bottom: 1px solid gray;flex-grow: 1;}#sk-container-id-2 div.sk-label:hover label.sk-toggleable__label {background-color: #d4ebff;}#sk-container-id-2 div.sk-serial::before {content: \"\";position: absolute;border-left: 1px solid gray;box-sizing: border-box;top: 0;bottom: 0;left: 50%;z-index: 0;}#sk-container-id-2 div.sk-serial {display: flex;flex-direction: column;align-items: center;background-color: white;padding-right: 0.2em;padding-left: 0.2em;position: relative;}#sk-container-id-2 div.sk-item {position: relative;z-index: 1;}#sk-container-id-2 div.sk-parallel {display: flex;align-items: stretch;justify-content: center;background-color: white;position: relative;}#sk-container-id-2 div.sk-item::before, #sk-container-id-2 div.sk-parallel-item::before {content: \"\";position: absolute;border-left: 1px solid gray;box-sizing: border-box;top: 0;bottom: 0;left: 50%;z-index: -1;}#sk-container-id-2 div.sk-parallel-item {display: flex;flex-direction: column;z-index: 1;position: relative;background-color: white;}#sk-container-id-2 div.sk-parallel-item:first-child::after {align-self: flex-end;width: 50%;}#sk-container-id-2 div.sk-parallel-item:last-child::after {align-self: flex-start;width: 50%;}#sk-container-id-2 div.sk-parallel-item:only-child::after {width: 0;}#sk-container-id-2 div.sk-dashed-wrapped {border: 1px dashed gray;margin: 0 0.4em 0.5em 0.4em;box-sizing: border-box;padding-bottom: 0.4em;background-color: white;}#sk-container-id-2 div.sk-label label {font-family: monospace;font-weight: bold;display: inline-block;line-height: 1.2em;}#sk-container-id-2 div.sk-label-container {text-align: center;}#sk-container-id-2 div.sk-container {/* jupyter's `normalize.less` sets `[hidden] { display: none; }` but bootstrap.min.css set `[hidden] { display: none !important; }` so we also need the `!important` here to be able to override the default hidden behavior on the sphinx rendered scikit-learn.org. See: https://github.com/scikit-learn/scikit-learn/issues/21755 */display: inline-block !important;position: relative;}#sk-container-id-2 div.sk-text-repr-fallback {display: none;}</style><div id=\"sk-container-id-2\" class=\"sk-top-container\"><div class=\"sk-text-repr-fallback\"><pre>RandomForestRegressor(n_estimators=180)</pre><b>In a Jupyter environment, please rerun this cell to show the HTML representation or trust the notebook. <br />On GitHub, the HTML representation is unable to render, please try loading this page with nbviewer.org.</b></div><div class=\"sk-container\" hidden><div class=\"sk-item\"><div class=\"sk-estimator sk-toggleable\"><input class=\"sk-toggleable__control sk-hidden--visually\" id=\"sk-estimator-id-2\" type=\"checkbox\" checked><label for=\"sk-estimator-id-2\" class=\"sk-toggleable__label sk-toggleable__label-arrow\">RandomForestRegressor</label><div class=\"sk-toggleable__content\"><pre>RandomForestRegressor(n_estimators=180)</pre></div></div></div></div></div>"
      ],
      "text/plain": [
       "RandomForestRegressor(n_estimators=180)"
      ]
     },
     "execution_count": 16,
     "metadata": {},
     "output_type": "execute_result"
    }
   ],
   "source": [
    "# 가장 성능이 좋은 모델\n",
    "model.best_estimator_"
   ]
  },
  {
   "attachments": {},
   "cell_type": "markdown",
   "metadata": {
    "id": "_HCpxl6BK-W9"
   },
   "source": [
    "#### 2)autolog"
   ]
  },
  {
   "cell_type": "code",
   "execution_count": 17,
   "metadata": {
    "id": "-ejwf2CBK-W9"
   },
   "outputs": [
    {
     "name": "stderr",
     "output_type": "stream",
     "text": [
      "2023/05/18 12:09:49 WARNING mlflow.utils.autologging_utils: MLflow autologging encountered a warning: \"c:\\Users\\dufwn\\anaconda3\\envs\\ml_pipeline\\lib\\site-packages\\mlflow\\models\\signature.py:137: UserWarning: Hint: Inferred schema contains integer column(s). Integer columns in Python cannot represent missing values. If your input data contains missing values at inference time, it will be encoded as floats and will cause a schema enforcement error. The best way to avoid this problem is to infer the model schema based on a realistic data sample (training dataset) that includes missing values. Alternatively, you can declare integer columns as doubles (float64) whenever these columns may have missing values. See `Handling Integers With Missing Values <https://www.mlflow.org/docs/latest/models.html#handling-integers-with-missing-values>`_ for more details.\"\n",
      "2023/05/18 12:09:54 INFO mlflow.sklearn.utils: Logging the 5 best runs, 5 runs will be omitted.\n",
      "Successfully registered model 'RF_Tuning'.\n",
      "2023/05/18 12:09:57 INFO mlflow.tracking._model_registry.client: Waiting up to 300 seconds for model version to finish creation. Model name: RF_Tuning, version 1\n",
      "Created version '1' of model 'RF_Tuning'.\n"
     ]
    },
    {
     "data": {
      "image/png": "[encoded data removed]",
      "text/plain": [
       "<Figure size 640x480 with 1 Axes>"
      ]
     },
     "metadata": {},
     "output_type": "display_data"
    }
   ],
   "source": [
    "with mlflow.start_run(experiment_id=exp_id):\n",
    "    \n",
    "    mlflow.sklearn.autolog()\n",
    "    \n",
    "    params = {'n_estimators':range(20,201,20)}\n",
    "    model = GridSearchCV(RandomForestRegressor(), params, cv = 5)\n",
    "    model.fit(x_train, y_train)\n",
    "    \n",
    "    # 자동기록되는 부분 : 하이퍼파리미터, 성능지표, 성능평가 결과(.cv_results_)\n",
    "    \n",
    "    # 수동으로 등록해야 하는 부분 : 모델등록, 그래프, 추가적인 fitting 함수\n",
    "    result = pd.DataFrame(model.cv_results_)\n",
    "    plt.plot('param_n_estimators', 'mean_test_score', data = result, marker = '.' )\n",
    "    plt.title('RF GridSearch Tuning')\n",
    "    plt.ylabel('r2 score')\n",
    "    plt.xlabel('n_estimators')\n",
    "    plt.grid()    \n",
    "    plt.savefig('RF_GridSearch_Tuning.png')\n",
    "    mlflow.log_artifact(\"RF_GridSearch_Tuning.png\")\n",
    "    \n",
    "    # best 모델 기록하기\n",
    "    mlflow.sklearn.log_model(model.best_estimator_, \"model\", registered_model_name=\"RF_Tuning\")    \n",
    "       \n",
    "    mlflow.sklearn.autolog(disable = True)"
   ]
  },
  {
   "attachments": {},
   "cell_type": "markdown",
   "metadata": {
    "id": "e74gfydxK-W-"
   },
   "source": [
    "### (3) 실습\n",
    "* exp3에 KNN regressor 튜닝 기록하기\n",
    "    * mlflow.start_run 함수에 experiment_id=exp_id, run_name = 'gridsearch_tuning01' 이라고 실행 이름을 지정해 봅시다.\n",
    "    * 하이퍼퍼라미터 범위 \n",
    "        * n_neighbors : 1~50\n",
    "        * metric : ‘euclidean’, ‘manhattan’\n",
    "    * autolog\n",
    "    * 추가 로깅\n",
    "        * 모델 : best_estimator_ \n",
    "        * 그래프 : metric별 n_neighbors에 따른 성능 추이 그래프\n",
    "* 먼저 튜닝을 시도해보고, 이상이 없으면 mlflow에 logging 하도록 합시다.\n",
    "* 기록 후 mlflow 관리 페이지에서 확인해 봅시다."
   ]
  },
  {
   "cell_type": "code",
   "execution_count": 21,
   "metadata": {},
   "outputs": [
    {
     "data": {
      "text/html": [
       "<div>\n",
       "<style scoped>\n",
       "    .dataframe tbody tr th:only-of-type {\n",
       "        vertical-align: middle;\n",
       "    }\n",
       "\n",
       "    .dataframe tbody tr th {\n",
       "        vertical-align: top;\n",
       "    }\n",
       "\n",
       "    .dataframe thead th {\n",
       "        text-align: right;\n",
       "    }\n",
       "</style>\n",
       "<table border=\"1\" class=\"dataframe\">\n",
       "  <thead>\n",
       "    <tr style=\"text-align: right;\">\n",
       "      <th></th>\n",
       "      <th>mean_fit_time</th>\n",
       "      <th>std_fit_time</th>\n",
       "      <th>mean_score_time</th>\n",
       "      <th>std_score_time</th>\n",
       "      <th>param_metric</th>\n",
       "      <th>param_n_neighbors</th>\n",
       "      <th>params</th>\n",
       "      <th>split0_test_score</th>\n",
       "      <th>split1_test_score</th>\n",
       "      <th>split2_test_score</th>\n",
       "      <th>split3_test_score</th>\n",
       "      <th>split4_test_score</th>\n",
       "      <th>mean_test_score</th>\n",
       "      <th>std_test_score</th>\n",
       "      <th>rank_test_score</th>\n",
       "    </tr>\n",
       "  </thead>\n",
       "  <tbody>\n",
       "    <tr>\n",
       "      <th>0</th>\n",
       "      <td>0.004418</td>\n",
       "      <td>0.001776</td>\n",
       "      <td>0.003000</td>\n",
       "      <td>0.001932</td>\n",
       "      <td>euclidean</td>\n",
       "      <td>1</td>\n",
       "      <td>{'metric': 'euclidean', 'n_neighbors': 1}</td>\n",
       "      <td>-0.420366</td>\n",
       "      <td>-0.737060</td>\n",
       "      <td>-0.820706</td>\n",
       "      <td>-0.621260</td>\n",
       "      <td>-0.048773</td>\n",
       "      <td>-0.529633</td>\n",
       "      <td>0.275431</td>\n",
       "      <td>100</td>\n",
       "    </tr>\n",
       "    <tr>\n",
       "      <th>1</th>\n",
       "      <td>0.002590</td>\n",
       "      <td>0.001997</td>\n",
       "      <td>0.002390</td>\n",
       "      <td>0.001952</td>\n",
       "      <td>euclidean</td>\n",
       "      <td>2</td>\n",
       "      <td>{'metric': 'euclidean', 'n_neighbors': 2}</td>\n",
       "      <td>0.032105</td>\n",
       "      <td>-0.212498</td>\n",
       "      <td>-0.404449</td>\n",
       "      <td>-0.270863</td>\n",
       "      <td>0.124855</td>\n",
       "      <td>-0.146170</td>\n",
       "      <td>0.195904</td>\n",
       "      <td>98</td>\n",
       "    </tr>\n",
       "    <tr>\n",
       "      <th>2</th>\n",
       "      <td>0.001647</td>\n",
       "      <td>0.002017</td>\n",
       "      <td>0.003381</td>\n",
       "      <td>0.001726</td>\n",
       "      <td>euclidean</td>\n",
       "      <td>3</td>\n",
       "      <td>{'metric': 'euclidean', 'n_neighbors': 3}</td>\n",
       "      <td>0.063470</td>\n",
       "      <td>0.051349</td>\n",
       "      <td>-0.234789</td>\n",
       "      <td>-0.174025</td>\n",
       "      <td>0.080987</td>\n",
       "      <td>-0.042602</td>\n",
       "      <td>0.133836</td>\n",
       "      <td>96</td>\n",
       "    </tr>\n",
       "    <tr>\n",
       "      <th>3</th>\n",
       "      <td>0.002447</td>\n",
       "      <td>0.001998</td>\n",
       "      <td>0.002418</td>\n",
       "      <td>0.001975</td>\n",
       "      <td>euclidean</td>\n",
       "      <td>4</td>\n",
       "      <td>{'metric': 'euclidean', 'n_neighbors': 4}</td>\n",
       "      <td>0.022988</td>\n",
       "      <td>0.074878</td>\n",
       "      <td>-0.101112</td>\n",
       "      <td>-0.220418</td>\n",
       "      <td>0.138997</td>\n",
       "      <td>-0.016933</td>\n",
       "      <td>0.128708</td>\n",
       "      <td>91</td>\n",
       "    </tr>\n",
       "    <tr>\n",
       "      <th>4</th>\n",
       "      <td>0.002763</td>\n",
       "      <td>0.002343</td>\n",
       "      <td>0.001934</td>\n",
       "      <td>0.002399</td>\n",
       "      <td>euclidean</td>\n",
       "      <td>5</td>\n",
       "      <td>{'metric': 'euclidean', 'n_neighbors': 5}</td>\n",
       "      <td>0.046601</td>\n",
       "      <td>0.074058</td>\n",
       "      <td>-0.119523</td>\n",
       "      <td>-0.105111</td>\n",
       "      <td>0.180401</td>\n",
       "      <td>0.015285</td>\n",
       "      <td>0.113460</td>\n",
       "      <td>89</td>\n",
       "    </tr>\n",
       "    <tr>\n",
       "      <th>...</th>\n",
       "      <td>...</td>\n",
       "      <td>...</td>\n",
       "      <td>...</td>\n",
       "      <td>...</td>\n",
       "      <td>...</td>\n",
       "      <td>...</td>\n",
       "      <td>...</td>\n",
       "      <td>...</td>\n",
       "      <td>...</td>\n",
       "      <td>...</td>\n",
       "      <td>...</td>\n",
       "      <td>...</td>\n",
       "      <td>...</td>\n",
       "      <td>...</td>\n",
       "      <td>...</td>\n",
       "    </tr>\n",
       "    <tr>\n",
       "      <th>95</th>\n",
       "      <td>0.002408</td>\n",
       "      <td>0.001967</td>\n",
       "      <td>0.000410</td>\n",
       "      <td>0.000819</td>\n",
       "      <td>manhattan</td>\n",
       "      <td>46</td>\n",
       "      <td>{'metric': 'manhattan', 'n_neighbors': 46}</td>\n",
       "      <td>0.127348</td>\n",
       "      <td>0.028445</td>\n",
       "      <td>0.044099</td>\n",
       "      <td>0.049444</td>\n",
       "      <td>0.057448</td>\n",
       "      <td>0.061357</td>\n",
       "      <td>0.034331</td>\n",
       "      <td>52</td>\n",
       "    </tr>\n",
       "    <tr>\n",
       "      <th>96</th>\n",
       "      <td>0.001517</td>\n",
       "      <td>0.001699</td>\n",
       "      <td>0.001590</td>\n",
       "      <td>0.001947</td>\n",
       "      <td>manhattan</td>\n",
       "      <td>47</td>\n",
       "      <td>{'metric': 'manhattan', 'n_neighbors': 47}</td>\n",
       "      <td>0.122331</td>\n",
       "      <td>0.027123</td>\n",
       "      <td>0.047428</td>\n",
       "      <td>0.049649</td>\n",
       "      <td>0.061610</td>\n",
       "      <td>0.061628</td>\n",
       "      <td>0.032313</td>\n",
       "      <td>51</td>\n",
       "    </tr>\n",
       "    <tr>\n",
       "      <th>97</th>\n",
       "      <td>0.002536</td>\n",
       "      <td>0.002078</td>\n",
       "      <td>0.001363</td>\n",
       "      <td>0.001573</td>\n",
       "      <td>manhattan</td>\n",
       "      <td>48</td>\n",
       "      <td>{'metric': 'manhattan', 'n_neighbors': 48}</td>\n",
       "      <td>0.120460</td>\n",
       "      <td>0.015871</td>\n",
       "      <td>0.049778</td>\n",
       "      <td>0.054433</td>\n",
       "      <td>0.058703</td>\n",
       "      <td>0.059849</td>\n",
       "      <td>0.033882</td>\n",
       "      <td>54</td>\n",
       "    </tr>\n",
       "    <tr>\n",
       "      <th>98</th>\n",
       "      <td>0.001510</td>\n",
       "      <td>0.001572</td>\n",
       "      <td>0.001916</td>\n",
       "      <td>0.001335</td>\n",
       "      <td>manhattan</td>\n",
       "      <td>49</td>\n",
       "      <td>{'metric': 'manhattan', 'n_neighbors': 49}</td>\n",
       "      <td>0.118598</td>\n",
       "      <td>0.017405</td>\n",
       "      <td>0.049457</td>\n",
       "      <td>0.054050</td>\n",
       "      <td>0.055657</td>\n",
       "      <td>0.059033</td>\n",
       "      <td>0.032890</td>\n",
       "      <td>56</td>\n",
       "    </tr>\n",
       "    <tr>\n",
       "      <th>99</th>\n",
       "      <td>0.001797</td>\n",
       "      <td>0.000584</td>\n",
       "      <td>0.001053</td>\n",
       "      <td>0.000539</td>\n",
       "      <td>manhattan</td>\n",
       "      <td>50</td>\n",
       "      <td>{'metric': 'manhattan', 'n_neighbors': 50}</td>\n",
       "      <td>0.114937</td>\n",
       "      <td>0.008994</td>\n",
       "      <td>0.052248</td>\n",
       "      <td>0.052275</td>\n",
       "      <td>0.060647</td>\n",
       "      <td>0.057820</td>\n",
       "      <td>0.033812</td>\n",
       "      <td>57</td>\n",
       "    </tr>\n",
       "  </tbody>\n",
       "</table>\n",
       "<p>100 rows × 15 columns</p>\n",
       "</div>"
      ],
      "text/plain": [
       "    mean_fit_time  std_fit_time  mean_score_time  std_score_time param_metric   \n",
       "0        0.004418      0.001776         0.003000        0.001932    euclidean  \\\n",
       "1        0.002590      0.001997         0.002390        0.001952    euclidean   \n",
       "2        0.001647      0.002017         0.003381        0.001726    euclidean   \n",
       "3        0.002447      0.001998         0.002418        0.001975    euclidean   \n",
       "4        0.002763      0.002343         0.001934        0.002399    euclidean   \n",
       "..            ...           ...              ...             ...          ...   \n",
       "95       0.002408      0.001967         0.000410        0.000819    manhattan   \n",
       "96       0.001517      0.001699         0.001590        0.001947    manhattan   \n",
       "97       0.002536      0.002078         0.001363        0.001573    manhattan   \n",
       "98       0.001510      0.001572         0.001916        0.001335    manhattan   \n",
       "99       0.001797      0.000584         0.001053        0.000539    manhattan   \n",
       "\n",
       "   param_n_neighbors                                      params   \n",
       "0                  1   {'metric': 'euclidean', 'n_neighbors': 1}  \\\n",
       "1                  2   {'metric': 'euclidean', 'n_neighbors': 2}   \n",
       "2                  3   {'metric': 'euclidean', 'n_neighbors': 3}   \n",
       "3                  4   {'metric': 'euclidean', 'n_neighbors': 4}   \n",
       "4                  5   {'metric': 'euclidean', 'n_neighbors': 5}   \n",
       "..               ...                                         ...   \n",
       "95                46  {'metric': 'manhattan', 'n_neighbors': 46}   \n",
       "96                47  {'metric': 'manhattan', 'n_neighbors': 47}   \n",
       "97                48  {'metric': 'manhattan', 'n_neighbors': 48}   \n",
       "98                49  {'metric': 'manhattan', 'n_neighbors': 49}   \n",
       "99                50  {'metric': 'manhattan', 'n_neighbors': 50}   \n",
       "\n",
       "    split0_test_score  split1_test_score  split2_test_score   \n",
       "0           -0.420366          -0.737060          -0.820706  \\\n",
       "1            0.032105          -0.212498          -0.404449   \n",
       "2            0.063470           0.051349          -0.234789   \n",
       "3            0.022988           0.074878          -0.101112   \n",
       "4            0.046601           0.074058          -0.119523   \n",
       "..                ...                ...                ...   \n",
       "95           0.127348           0.028445           0.044099   \n",
       "96           0.122331           0.027123           0.047428   \n",
       "97           0.120460           0.015871           0.049778   \n",
       "98           0.118598           0.017405           0.049457   \n",
       "99           0.114937           0.008994           0.052248   \n",
       "\n",
       "    split3_test_score  split4_test_score  mean_test_score  std_test_score   \n",
       "0           -0.621260          -0.048773        -0.529633        0.275431  \\\n",
       "1           -0.270863           0.124855        -0.146170        0.195904   \n",
       "2           -0.174025           0.080987        -0.042602        0.133836   \n",
       "3           -0.220418           0.138997        -0.016933        0.128708   \n",
       "4           -0.105111           0.180401         0.015285        0.113460   \n",
       "..                ...                ...              ...             ...   \n",
       "95           0.049444           0.057448         0.061357        0.034331   \n",
       "96           0.049649           0.061610         0.061628        0.032313   \n",
       "97           0.054433           0.058703         0.059849        0.033882   \n",
       "98           0.054050           0.055657         0.059033        0.032890   \n",
       "99           0.052275           0.060647         0.057820        0.033812   \n",
       "\n",
       "    rank_test_score  \n",
       "0               100  \n",
       "1                98  \n",
       "2                96  \n",
       "3                91  \n",
       "4                89  \n",
       "..              ...  \n",
       "95               52  \n",
       "96               51  \n",
       "97               54  \n",
       "98               56  \n",
       "99               57  \n",
       "\n",
       "[100 rows x 15 columns]"
      ]
     },
     "execution_count": 21,
     "metadata": {},
     "output_type": "execute_result"
    }
   ],
   "source": [
    "params = {\"n_neighbors\":range(1,51),\"metric\":['euclidean', 'manhattan']}\n",
    "model = GridSearchCV(KNeighborsRegressor(),params,cv=5)\n",
    "model.fit(x_train,y_train)\n",
    "result = pd.DataFrame(model.cv_results_)\n",
    "result"
   ]
  },
  {
   "cell_type": "code",
   "execution_count": 24,
   "metadata": {
    "id": "a20mgeWhK-W-"
   },
   "outputs": [
    {
     "name": "stderr",
     "output_type": "stream",
     "text": [
      "2023/05/18 12:27:38 WARNING mlflow.utils.autologging_utils: MLflow autologging encountered a warning: \"c:\\Users\\dufwn\\anaconda3\\envs\\ml_pipeline\\lib\\site-packages\\mlflow\\models\\signature.py:137: UserWarning: Hint: Inferred schema contains integer column(s). Integer columns in Python cannot represent missing values. If your input data contains missing values at inference time, it will be encoded as floats and will cause a schema enforcement error. The best way to avoid this problem is to infer the model schema based on a realistic data sample (training dataset) that includes missing values. Alternatively, you can declare integer columns as doubles (float64) whenever these columns may have missing values. See `Handling Integers With Missing Values <https://www.mlflow.org/docs/latest/models.html#handling-integers-with-missing-values>`_ for more details.\"\n",
      "2023/05/18 12:27:46 INFO mlflow.sklearn.utils: Logging the 5 best runs, 95 runs will be omitted.\n",
      "Registered model 'knn_grid_tunig' already exists. Creating a new version of this model...\n",
      "2023/05/18 12:27:51 INFO mlflow.tracking._model_registry.client: Waiting up to 300 seconds for model version to finish creation. Model name: knn_grid_tunig, version 2\n",
      "Created version '2' of model 'knn_grid_tunig'.\n"
     ]
    },
    {
     "data": {
      "image/png": "[encoded data removed]",
      "text/plain": [
       "<Figure size 640x480 with 1 Axes>"
      ]
     },
     "metadata": {},
     "output_type": "display_data"
    }
   ],
   "source": [
    "with mlflow.start_run(experiment_id=exp_id, run_name = 'gridsearch_tuning01'):\n",
    "    \n",
    "    # autolog 시작!\n",
    "    mlflow.sklearn.autolog()\n",
    "    \n",
    "    # 튜닝 코드\n",
    "    params = {\"n_neighbors\":range(1,51),\"metric\":['euclidean', 'manhattan']}\n",
    "    model = GridSearchCV(KNeighborsRegressor(),params,cv=5)\n",
    "    model.fit(x_train,y_train)\n",
    "        \n",
    "    # 수동등록 : 그래프\n",
    "    result = pd.DataFrame(model.cv_results_)\n",
    "    sns.lineplot(x='param_n_neighbors', y='mean_test_score', data = result,hue=\"param_metric\")\n",
    "    plt.title(\"knn_gridsearch_tunig\")\n",
    "    plt.xlabel(\"n_neighbors\")\n",
    "    plt.ylabel(\"r2_score\")\n",
    "    plt.grid()\n",
    "    plt.savefig(\"knn_gridsearch_tunig.png\")\n",
    "    mlflow.log_artifact(\"knn_gridsearch_tunig.png\")\n",
    "    \n",
    "    # 수동등록 : best 모델 기록하기\n",
    "    mlflow.sklearn.log_model(model.best_estimator_,\"model\",registered_model_name=\"knn_grid_tunig\")\n",
    "    \n",
    "    # autolog 종료\n",
    "    mlflow.sklearn.autolog(disable=True)"
   ]
  },
  {
   "attachments": {},
   "cell_type": "markdown",
   "metadata": {
    "id": "2fcPf8_7K-XB",
    "tags": []
   },
   "source": [
    "## 4.autolog2 : Keras(Deep Learning)"
   ]
  },
  {
   "cell_type": "code",
   "execution_count": 25,
   "metadata": {
    "id": "t-itQ8pMK-XB"
   },
   "outputs": [],
   "source": [
    "from tensorflow import keras\n",
    "from keras.models import Sequential\n",
    "from keras.layers import Dense\n",
    "from keras.backend import clear_session\n",
    "from keras.callbacks import Callback\n",
    "from keras.optimizers import Adam\n",
    "\n",
    "import mlflow.keras"
   ]
  },
  {
   "cell_type": "code",
   "execution_count": 26,
   "metadata": {
    "id": "8P3NgRR_K-XB"
   },
   "outputs": [],
   "source": [
    "# 학습곡선 그래프\n",
    "def dl_history_plot(history):\n",
    "    plt.figure(figsize=(8,5))\n",
    "    plt.plot(history['loss'], label='train_err', marker = '.')\n",
    "    plt.plot(history['val_loss'], label='val_err', marker = '.')\n",
    "\n",
    "    plt.ylabel('Loss')\n",
    "    plt.xlabel('Epoch')\n",
    "    plt.legend()\n",
    "    plt.grid()\n",
    "    plt.show()"
   ]
  },
  {
   "attachments": {},
   "cell_type": "markdown",
   "metadata": {
    "id": "kp0c6zwEK-XC"
   },
   "source": [
    "### (1) Keras 모델링"
   ]
  },
  {
   "attachments": {},
   "cell_type": "markdown",
   "metadata": {
    "id": "M5enPIVjK-XC"
   },
   "source": [
    "* input_shape 확인"
   ]
  },
  {
   "cell_type": "code",
   "execution_count": 27,
   "metadata": {
    "id": "vUeFJh2kK-XC"
   },
   "outputs": [
    {
     "data": {
      "text/plain": [
       "18"
      ]
     },
     "execution_count": 27,
     "metadata": {},
     "output_type": "execute_result"
    }
   ],
   "source": [
    "nfeatures = x_train.shape[1] #num of columns\n",
    "nfeatures"
   ]
  },
  {
   "attachments": {},
   "cell_type": "markdown",
   "metadata": {
    "id": "Ue9oGrdEK-XC"
   },
   "source": [
    "* 모델 구조 설계"
   ]
  },
  {
   "cell_type": "code",
   "execution_count": 28,
   "metadata": {
    "id": "Sv7ssd_ZK-XD"
   },
   "outputs": [
    {
     "name": "stdout",
     "output_type": "stream",
     "text": [
      "Model: \"sequential\"\n",
      "_________________________________________________________________\n",
      " Layer (type)                Output Shape              Param #   \n",
      "=================================================================\n",
      " dense (Dense)               (None, 1)                 19        \n",
      "                                                                 \n",
      "=================================================================\n",
      "Total params: 19\n",
      "Trainable params: 19\n",
      "Non-trainable params: 0\n",
      "_________________________________________________________________\n"
     ]
    }
   ],
   "source": [
    "model = Sequential([ Dense(1, input_shape = (nfeatures,))  ])\n",
    "model.summary()"
   ]
  },
  {
   "attachments": {},
   "cell_type": "markdown",
   "metadata": {
    "id": "s6Qp3PM5K-XD"
   },
   "source": [
    "* 컴파일 및 학습"
   ]
  },
  {
   "cell_type": "code",
   "execution_count": 29,
   "metadata": {
    "id": "qjXrkN1KK-XE",
    "tags": []
   },
   "outputs": [
    {
     "name": "stdout",
     "output_type": "stream",
     "text": [
      "Epoch 1/30\n",
      "8/8 [==============================] - 0s 20ms/step - loss: 37.6393 - val_loss: 14.1828\n",
      "Epoch 2/30\n",
      "8/8 [==============================] - 0s 5ms/step - loss: 10.1113 - val_loss: 12.5528\n",
      "Epoch 3/30\n",
      "8/8 [==============================] - 0s 7ms/step - loss: 10.1429 - val_loss: 13.3700\n",
      "Epoch 4/30\n",
      "8/8 [==============================] - 0s 7ms/step - loss: 8.2359 - val_loss: 9.2772\n",
      "Epoch 5/30\n",
      "8/8 [==============================] - 0s 7ms/step - loss: 6.5060 - val_loss: 8.1018\n",
      "Epoch 6/30\n",
      "8/8 [==============================] - 0s 7ms/step - loss: 6.3093 - val_loss: 7.8343\n",
      "Epoch 7/30\n",
      "8/8 [==============================] - 0s 8ms/step - loss: 5.6560 - val_loss: 7.8733\n",
      "Epoch 8/30\n",
      "8/8 [==============================] - 0s 7ms/step - loss: 5.5063 - val_loss: 8.0219\n",
      "Epoch 9/30\n",
      "8/8 [==============================] - 0s 6ms/step - loss: 5.2264 - val_loss: 7.2947\n",
      "Epoch 10/30\n",
      "8/8 [==============================] - 0s 6ms/step - loss: 4.9951 - val_loss: 7.1057\n",
      "Epoch 11/30\n",
      "8/8 [==============================] - 0s 8ms/step - loss: 4.8626 - val_loss: 6.9578\n",
      "Epoch 12/30\n",
      "8/8 [==============================] - 0s 9ms/step - loss: 4.6944 - val_loss: 7.1276\n",
      "Epoch 13/30\n",
      "8/8 [==============================] - 0s 7ms/step - loss: 4.5992 - val_loss: 6.6823\n",
      "Epoch 14/30\n",
      "8/8 [==============================] - 0s 7ms/step - loss: 4.4289 - val_loss: 6.6072\n",
      "Epoch 15/30\n",
      "8/8 [==============================] - 0s 7ms/step - loss: 4.3187 - val_loss: 6.4011\n",
      "Epoch 16/30\n",
      "8/8 [==============================] - 0s 7ms/step - loss: 4.2172 - val_loss: 6.3761\n",
      "Epoch 17/30\n",
      "8/8 [==============================] - 0s 7ms/step - loss: 4.1163 - val_loss: 6.1706\n",
      "Epoch 18/30\n",
      "8/8 [==============================] - 0s 6ms/step - loss: 4.0284 - val_loss: 6.0573\n",
      "Epoch 19/30\n",
      "8/8 [==============================] - 0s 6ms/step - loss: 3.9478 - val_loss: 5.9188\n",
      "Epoch 20/30\n",
      "8/8 [==============================] - 0s 7ms/step - loss: 3.8572 - val_loss: 5.9015\n",
      "Epoch 21/30\n",
      "8/8 [==============================] - 0s 7ms/step - loss: 3.8023 - val_loss: 5.8127\n",
      "Epoch 22/30\n",
      "8/8 [==============================] - 0s 6ms/step - loss: 3.7262 - val_loss: 5.7392\n",
      "Epoch 23/30\n",
      "8/8 [==============================] - 0s 7ms/step - loss: 3.6648 - val_loss: 5.4846\n",
      "Epoch 24/30\n",
      "8/8 [==============================] - 0s 6ms/step - loss: 3.5885 - val_loss: 5.5309\n",
      "Epoch 25/30\n",
      "8/8 [==============================] - 0s 5ms/step - loss: 3.5308 - val_loss: 5.3575\n",
      "Epoch 26/30\n",
      "8/8 [==============================] - 0s 6ms/step - loss: 3.4877 - val_loss: 5.3634\n",
      "Epoch 27/30\n",
      "8/8 [==============================] - 0s 6ms/step - loss: 3.4421 - val_loss: 5.0278\n",
      "Epoch 28/30\n",
      "8/8 [==============================] - 0s 6ms/step - loss: 3.3540 - val_loss: 5.2058\n",
      "Epoch 29/30\n",
      "8/8 [==============================] - 0s 7ms/step - loss: 3.3047 - val_loss: 5.0419\n",
      "Epoch 30/30\n",
      "8/8 [==============================] - 0s 7ms/step - loss: 3.2488 - val_loss: 4.7975\n"
     ]
    }
   ],
   "source": [
    "model.compile(optimizer= Adam(learning_rate = 0.1), loss='mse')\n",
    "history = model.fit(x_train_s, y_train, epochs=30, validation_split=.2).history"
   ]
  },
  {
   "attachments": {},
   "cell_type": "markdown",
   "metadata": {
    "id": "_DyT793nK-XE"
   },
   "source": [
    "* 학습 곡선"
   ]
  },
  {
   "cell_type": "code",
   "execution_count": 30,
   "metadata": {
    "id": "faRYLza9K-XE"
   },
   "outputs": [
    {
     "data": {
      "image/png": "[encoded data removed]",
      "text/plain": [
       "<Figure size 800x500 with 1 Axes>"
      ]
     },
     "metadata": {},
     "output_type": "display_data"
    }
   ],
   "source": [
    "dl_history_plot(history)"
   ]
  },
  {
   "attachments": {},
   "cell_type": "markdown",
   "metadata": {
    "id": "DZR7uZc5K-XF"
   },
   "source": [
    "### (2) autolog"
   ]
  },
  {
   "cell_type": "code",
   "execution_count": 31,
   "metadata": {
    "id": "UAPJ09H8K-XF",
    "tags": []
   },
   "outputs": [
    {
     "name": "stdout",
     "output_type": "stream",
     "text": [
      "Epoch 1/30\n",
      "1/8 [==>...........................] - ETA: 1s - loss: 71.7741WARNING:tensorflow:Callback method `on_train_batch_end` is slow compared to the batch time (batch time: 0.0013s vs `on_train_batch_end` time: 0.0068s). Check your callbacks.\n",
      "8/8 [==============================] - 0s 23ms/step - loss: 35.3016 - val_loss: 13.3159\n",
      "Epoch 2/30\n",
      "8/8 [==============================] - 0s 8ms/step - loss: 8.6227 - val_loss: 12.1235\n",
      "Epoch 3/30\n",
      "8/8 [==============================] - 0s 9ms/step - loss: 10.2723 - val_loss: 13.1068\n",
      "Epoch 4/30\n",
      "8/8 [==============================] - 0s 11ms/step - loss: 8.0546 - val_loss: 8.7805\n",
      "Epoch 5/30\n",
      "8/8 [==============================] - 0s 9ms/step - loss: 6.1170 - val_loss: 7.9323\n",
      "Epoch 6/30\n",
      "8/8 [==============================] - 0s 11ms/step - loss: 6.1043 - val_loss: 7.6213\n",
      "Epoch 7/30\n",
      "8/8 [==============================] - 0s 9ms/step - loss: 5.5000 - val_loss: 7.8714\n",
      "Epoch 8/30\n",
      "8/8 [==============================] - 0s 8ms/step - loss: 5.2426 - val_loss: 7.6669\n",
      "Epoch 9/30\n",
      "8/8 [==============================] - 0s 11ms/step - loss: 5.0098 - val_loss: 7.1432\n",
      "Epoch 10/30\n",
      "8/8 [==============================] - 0s 7ms/step - loss: 4.8338 - val_loss: 7.0195\n",
      "Epoch 11/30\n",
      "8/8 [==============================] - 0s 9ms/step - loss: 4.6658 - val_loss: 6.7266\n",
      "Epoch 12/30\n",
      "8/8 [==============================] - 0s 9ms/step - loss: 4.5132 - val_loss: 6.6431\n",
      "Epoch 13/30\n",
      "8/8 [==============================] - 0s 7ms/step - loss: 4.3834 - val_loss: 6.5349\n",
      "Epoch 14/30\n",
      "8/8 [==============================] - 0s 7ms/step - loss: 4.2761 - val_loss: 6.4865\n",
      "Epoch 15/30\n",
      "8/8 [==============================] - 0s 8ms/step - loss: 4.1593 - val_loss: 6.2035\n",
      "Epoch 16/30\n",
      "8/8 [==============================] - 0s 7ms/step - loss: 4.0828 - val_loss: 6.0320\n",
      "Epoch 17/30\n",
      "8/8 [==============================] - 0s 8ms/step - loss: 4.0022 - val_loss: 6.1238\n",
      "Epoch 18/30\n",
      "8/8 [==============================] - 0s 7ms/step - loss: 3.9493 - val_loss: 5.7911\n",
      "Epoch 19/30\n",
      "8/8 [==============================] - 0s 9ms/step - loss: 3.8011 - val_loss: 5.8087\n",
      "Epoch 20/30\n",
      "8/8 [==============================] - 0s 7ms/step - loss: 3.7252 - val_loss: 5.7247\n",
      "Epoch 21/30\n",
      "8/8 [==============================] - 0s 8ms/step - loss: 3.6665 - val_loss: 5.5455\n",
      "Epoch 22/30\n",
      "8/8 [==============================] - 0s 7ms/step - loss: 3.5869 - val_loss: 5.4411\n",
      "Epoch 23/30\n",
      "8/8 [==============================] - 0s 9ms/step - loss: 3.5231 - val_loss: 5.3183\n",
      "Epoch 24/30\n",
      "8/8 [==============================] - 0s 8ms/step - loss: 3.4792 - val_loss: 5.2530\n",
      "Epoch 25/30\n",
      "8/8 [==============================] - 0s 7ms/step - loss: 3.4030 - val_loss: 5.1357\n",
      "Epoch 26/30\n",
      "8/8 [==============================] - 0s 9ms/step - loss: 3.3567 - val_loss: 5.1750\n",
      "Epoch 27/30\n",
      "8/8 [==============================] - 0s 7ms/step - loss: 3.2929 - val_loss: 5.0402\n",
      "Epoch 28/30\n",
      "8/8 [==============================] - 0s 10ms/step - loss: 3.2222 - val_loss: 4.8702\n",
      "Epoch 29/30\n",
      "8/8 [==============================] - 0s 7ms/step - loss: 3.1758 - val_loss: 4.8497\n",
      "Epoch 30/30\n",
      "8/8 [==============================] - 0s 7ms/step - loss: 3.1219 - val_loss: 4.7444\n",
      "1/1 [==============================] - 0s 101ms/step\n",
      "INFO:tensorflow:Assets written to: C:\\Users\\dufwn\\AppData\\Local\\Temp\\tmpu9ne6ka9\\model\\data\\model\\assets\n"
     ]
    },
    {
     "name": "stderr",
     "output_type": "stream",
     "text": [
      "2023/05/18 13:41:28 WARNING mlflow.tensorflow: You are saving a TensorFlow Core model or Keras model without a signature. Inference with mlflow.pyfunc.spark_udf() will not work unless the model's pyfunc representation accepts pandas DataFrames as inference inputs.\n"
     ]
    },
    {
     "name": "stdout",
     "output_type": "stream",
     "text": [
      "INFO:tensorflow:Assets written to: C:\\Users\\dufwn\\AppData\\Local\\Temp\\tmphttvo0o9\\model\\data\\model\\assets\n"
     ]
    },
    {
     "name": "stderr",
     "output_type": "stream",
     "text": [
      "Successfully registered model 'DL'.\n",
      "2023/05/18 13:41:36 INFO mlflow.tracking._model_registry.client: Waiting up to 300 seconds for model version to finish creation. Model name: DL, version 1\n",
      "Created version '1' of model 'DL'.\n"
     ]
    }
   ],
   "source": [
    "with mlflow.start_run(experiment_id=exp_id):\n",
    "    \n",
    "    # autolog 시작\n",
    "    mlflow.keras.autolog()\n",
    "    \n",
    "    # 모델 설계 및 컴파일\n",
    "    model = Sequential([ Dense(1, input_shape = (nfeatures,))  ])\n",
    "    model.compile(optimizer= Adam(learning_rate = 0.1), loss='mse')\n",
    "\n",
    "    # 학습\n",
    "    history = model.fit(x_train_s, y_train, epochs=30, validation_split=.2).history\n",
    "    \n",
    "    # 모델등록\n",
    "    mlflow.keras.log_model(model, \"keras-model\",  registered_model_name=\"DL\")\n",
    "    \n",
    "    # autolog 종료\n",
    "    mlflow.keras.autolog(disable = True)"
   ]
  },
  {
   "attachments": {},
   "cell_type": "markdown",
   "metadata": {
    "id": "Et9zs_DuK-XF"
   },
   "source": [
    "* 딥러닝모델에서 로깅된 내용을 확인해봅시다.\n",
    "* 어떤 정보를 더 로깅해야 할까요?"
   ]
  },
  {
   "cell_type": "code",
   "execution_count": 33,
   "metadata": {},
   "outputs": [
    {
     "name": "stdout",
     "output_type": "stream",
     "text": [
      "Epoch 1/30\n",
      "1/8 [==>...........................] - ETA: 7s - loss: 78.3546WARNING:tensorflow:Callback method `on_train_batch_end` is slow compared to the batch time (batch time: 0.0019s vs `on_train_batch_end` time: 0.0038s). Check your callbacks.\n"
     ]
    },
    {
     "name": "stderr",
     "output_type": "stream",
     "text": [
      "WARNING:tensorflow:Callback method `on_train_batch_end` is slow compared to the batch time (batch time: 0.0019s vs `on_train_batch_end` time: 0.0038s). Check your callbacks.\n"
     ]
    },
    {
     "name": "stdout",
     "output_type": "stream",
     "text": [
      "8/8 [==============================] - 1s 35ms/step - loss: 73.4401 - val_loss: 62.3599\n",
      "Epoch 2/30\n",
      "8/8 [==============================] - 0s 10ms/step - loss: 72.7465 - val_loss: 61.9164\n",
      "Epoch 3/30\n",
      "8/8 [==============================] - 0s 9ms/step - loss: 71.9601 - val_loss: 61.5710\n",
      "Epoch 4/30\n",
      "8/8 [==============================] - 0s 10ms/step - loss: 71.0197 - val_loss: 61.2793\n",
      "Epoch 5/30\n",
      "8/8 [==============================] - 0s 8ms/step - loss: 70.4464 - val_loss: 61.0546\n",
      "Epoch 6/30\n",
      "8/8 [==============================] - 0s 10ms/step - loss: 69.3850 - val_loss: 60.8396\n",
      "Epoch 7/30\n",
      "8/8 [==============================] - 0s 7ms/step - loss: 68.4195 - val_loss: 60.6519\n",
      "Epoch 8/30\n",
      "8/8 [==============================] - 0s 9ms/step - loss: 67.5796 - val_loss: 60.4795\n",
      "Epoch 9/30\n",
      "8/8 [==============================] - 0s 7ms/step - loss: 66.5426 - val_loss: 60.3235\n",
      "Epoch 10/30\n",
      "8/8 [==============================] - 0s 9ms/step - loss: 65.5511 - val_loss: 60.1764\n",
      "Epoch 11/30\n",
      "8/8 [==============================] - 0s 7ms/step - loss: 64.8261 - val_loss: 60.0411\n",
      "Epoch 12/30\n",
      "8/8 [==============================] - 0s 8ms/step - loss: 64.5213 - val_loss: 59.9164\n",
      "Epoch 13/30\n",
      "8/8 [==============================] - 0s 6ms/step - loss: 64.2574 - val_loss: 59.7926\n",
      "Epoch 14/30\n",
      "8/8 [==============================] - 0s 8ms/step - loss: 64.0473 - val_loss: 59.6774\n",
      "Epoch 15/30\n",
      "8/8 [==============================] - 0s 7ms/step - loss: 63.7422 - val_loss: 59.5626\n",
      "Epoch 16/30\n",
      "8/8 [==============================] - 0s 8ms/step - loss: 63.6335 - val_loss: 59.4476\n",
      "Epoch 17/30\n",
      "8/8 [==============================] - 0s 7ms/step - loss: 63.4096 - val_loss: 59.3338\n",
      "Epoch 18/30\n",
      "8/8 [==============================] - 0s 8ms/step - loss: 63.2125 - val_loss: 59.2226\n",
      "Epoch 19/30\n",
      "8/8 [==============================] - 0s 6ms/step - loss: 63.0175 - val_loss: 59.1133\n",
      "Epoch 20/30\n",
      "8/8 [==============================] - 0s 8ms/step - loss: 62.8519 - val_loss: 59.0020\n",
      "Epoch 21/30\n",
      "8/8 [==============================] - 0s 8ms/step - loss: 62.7150 - val_loss: 58.8915\n",
      "Epoch 22/30\n",
      "8/8 [==============================] - 0s 9ms/step - loss: 62.5761 - val_loss: 58.7813\n",
      "Epoch 23/30\n",
      "8/8 [==============================] - 0s 7ms/step - loss: 62.4609 - val_loss: 58.6712\n",
      "Epoch 24/30\n",
      "8/8 [==============================] - 0s 9ms/step - loss: 62.3454 - val_loss: 58.5614\n",
      "Epoch 25/30\n",
      "8/8 [==============================] - 0s 7ms/step - loss: 62.2299 - val_loss: 58.4520\n",
      "Epoch 26/30\n",
      "8/8 [==============================] - 0s 11ms/step - loss: 62.1171 - val_loss: 58.3412\n",
      "Epoch 27/30\n",
      "8/8 [==============================] - 0s 8ms/step - loss: 62.0012 - val_loss: 58.2313\n",
      "Epoch 28/30\n",
      "8/8 [==============================] - 0s 8ms/step - loss: 61.8854 - val_loss: 58.1224\n",
      "Epoch 29/30\n",
      "8/8 [==============================] - 0s 7ms/step - loss: 61.7732 - val_loss: 58.0118\n",
      "Epoch 30/30\n",
      "8/8 [==============================] - 0s 8ms/step - loss: 61.6563 - val_loss: 57.9032\n",
      "1/1 [==============================] - 0s 63ms/step\n"
     ]
    },
    {
     "name": "stderr",
     "output_type": "stream",
     "text": [
      "WARNING:absl:Found untraced functions such as _update_step_xla while saving (showing 1 of 1). These functions will not be directly callable after loading.\n"
     ]
    },
    {
     "name": "stdout",
     "output_type": "stream",
     "text": [
      "INFO:tensorflow:Assets written to: C:\\Users\\dufwn\\AppData\\Local\\Temp\\tmpk5ag637z\\model\\data\\model\\assets\n"
     ]
    },
    {
     "name": "stderr",
     "output_type": "stream",
     "text": [
      "INFO:tensorflow:Assets written to: C:\\Users\\dufwn\\AppData\\Local\\Temp\\tmpk5ag637z\\model\\data\\model\\assets\n",
      "2023/05/18 13:51:07 WARNING mlflow.tensorflow: You are saving a TensorFlow Core model or Keras model without a signature. Inference with mlflow.pyfunc.spark_udf() will not work unless the model's pyfunc representation accepts pandas DataFrames as inference inputs.\n",
      "WARNING:absl:Found untraced functions such as _update_step_xla while saving (showing 1 of 1). These functions will not be directly callable after loading.\n"
     ]
    },
    {
     "name": "stdout",
     "output_type": "stream",
     "text": [
      "INFO:tensorflow:Assets written to: C:\\Users\\dufwn\\AppData\\Local\\Temp\\tmptq33pvr7\\model\\data\\model\\assets\n"
     ]
    },
    {
     "name": "stderr",
     "output_type": "stream",
     "text": [
      "INFO:tensorflow:Assets written to: C:\\Users\\dufwn\\AppData\\Local\\Temp\\tmptq33pvr7\\model\\data\\model\\assets\n",
      "Registered model 'DL' already exists. Creating a new version of this model...\n",
      "2023/05/18 13:51:16 INFO mlflow.tracking._model_registry.client: Waiting up to 300 seconds for model version to finish creation. Model name: DL, version 3\n",
      "Created version '3' of model 'DL'.\n"
     ]
    }
   ],
   "source": [
    "with mlflow.start_run(experiment_id=exp_id):\n",
    "    \n",
    "    # autolog 시작\n",
    "    mlflow.keras.autolog()\n",
    "    \n",
    "    # 모델 설계 및 컴파일\n",
    "    keras.backend.clear_session()\n",
    "    il = keras.layers.Input(shape=(nfeatures,))\n",
    "    hl = keras.layers.Dense(1,activation = \"relu\")(il)\n",
    "    hl2 = keras.layers.BatchNormalization()(hl)\n",
    "    hl3 = keras.layers.Dense(2,activation = \"relu\")(hl2)\n",
    "    hl4 = keras.layers.Dense(1)(hl3)\n",
    "    \n",
    "    model = keras.models.Model(il,hl4)\n",
    "    model.compile(optimizer=\"adam\",loss=\"mse\")\n",
    "    # 학습\n",
    "    history = model.fit(x_train_s, y_train, epochs=30, validation_split=.2).history\n",
    "    \n",
    "    # 모델등록\n",
    "    mlflow.keras.log_model(model, \"keras-model\",  registered_model_name=\"DL\")\n",
    "    \n",
    "    # autolog 종료\n",
    "    mlflow.keras.autolog(disable = True)"
   ]
  },
  {
   "attachments": {},
   "cell_type": "markdown",
   "metadata": {
    "id": "kZFCigmcK-XF"
   },
   "source": [
    "## 6.실습\n",
    "* 실습을 해 봅시다."
   ]
  },
  {
   "attachments": {},
   "cell_type": "markdown",
   "metadata": {
    "id": "U6-zchjMK-XG"
   },
   "source": [
    "### (1) 데이터 준비"
   ]
  },
  {
   "attachments": {},
   "cell_type": "markdown",
   "metadata": {
    "id": "ncRx1xdgK-XG"
   },
   "source": [
    "* 데이터 로딩"
   ]
  },
  {
   "cell_type": "code",
   "execution_count": null,
   "metadata": {
    "id": "a3EUxB9oK-XG"
   },
   "outputs": [],
   "source": [
    "path = 'https://raw.githubusercontent.com/DA4BAM/dataset/master/credit_all.csv'\n",
    "data = pd.read_csv(path)\n",
    "data.loc[data['Payment'] == 4, 'Payment'] = 3\n",
    "data.drop(['Telephone','ForeignWorker'], axis = 1, inplace = True)\n",
    "data.head()"
   ]
  },
  {
   "attachments": {},
   "cell_type": "markdown",
   "metadata": {
    "id": "aLjh6887K-XG"
   },
   "source": [
    "| 칼럼명 | 설명 | | 값 의미 |  \n",
    "|-----|-----|-----|-----|\n",
    "|\tCreditability\t|\tCreditability(Target)\t|\t향후 신용도\t|\t0 : Bad, 1 : Good\t|\n",
    "|\tAccountBalance\t|\tAccount Balance\t|\t은행잔고\t|\t1: No account, 2 : None (No balance), 3 : Some Balance\t|\n",
    "|\tCreditDuration\t|\tDuration of Credit (month)\t|\t신청한 대출기간(월)\t|\t숫자\t|\n",
    "|\tPayment\t|\tPayment Status of Previous Credit\t|\t과거 대출 납입 상태\t|\t0 : 연체, 1 : 기타신용, 2 : 완납, 3 : 정상 대출상환 중 |\n",
    "|\tPurpose\t|\tPurpose\t|\t신청한 대출목적\t|\t1 : New Car , 2 : Used Car , 3 : Furniture , 4 : TV , 5 : Appliances , 6 : Repair , 8 : Vacation , 9 :Retraining , 10 : Business , 0 : Other\t|\n",
    "|\tCreditAmount\t|\tCredit Amount($)\t|\t신청한 대출금액\t|\t\t|\n",
    "|\tEmployment\t|\tLength of current employment(Month)\t|\t현 직업 근무 기간\t|\t1: Unemployed,  2: <1 Year,  3: [1, 4),  4: [4, 7),  5: Above 7\t|\n",
    "|\tSexMarital\t|\tSex & Marital Status\t|\t성별 & 결혼상태\t|\t1: Male, Divorced, 2: Male, Single , 3: Male, Married/Widowed , 4: Female\t|\n",
    "|\tCurrentAddress\t|\tDuration in Current address\t|\t현 거주지 거주기간\t|\t1: <1 Year , 2: [1, 4) , 3: [4, 7) , 4: Above 7\t|\n",
    "|\tMostValuable\t|\tMost valuable available asset\t|\t가장 가치있는 자산\t|\t1: None , 2: Car , 3: Life Insurance , 4: Real Estate\t|\n",
    "|\tAge\t|\tAge (years)\t|\t나이\t|\t\t|\n",
    "|\tAppartmentType\t|\tType of apartment\t|\t주거환경\t|\t1: free apartment, 2: Rented, 3: Owned\t|\n",
    "|\tNoCredits\t|\tNo of Credits at this Bank\t|\t현재 총 대출 건수\t|\t1 : one, 2 : 2 ~ 3, 3 : 4 ~ 5, 4 : 6 ~\t|\n",
    "|\tOccupation\t|\tOccupation\t|\t직업\t|\t1: Unemployed, unskilled, 2: Unskilled Permanent Resident, 3: Skilled, 4: Executive\t|\n"
   ]
  },
  {
   "attachments": {},
   "cell_type": "markdown",
   "metadata": {
    "id": "iIpV4oEBK-XG"
   },
   "source": [
    "* x, y 나누기"
   ]
  },
  {
   "cell_type": "code",
   "execution_count": null,
   "metadata": {
    "id": "vZjHb_tYK-XH"
   },
   "outputs": [],
   "source": [
    "target = 'Creditability'\n",
    "x = data.drop(target, axis = 1)\n",
    "y = data.loc[:,target]"
   ]
  },
  {
   "attachments": {},
   "cell_type": "markdown",
   "metadata": {
    "id": "97Vu-VqlK-XH"
   },
   "source": [
    "* 가변수화"
   ]
  },
  {
   "cell_type": "code",
   "execution_count": null,
   "metadata": {
    "id": "nCwJtIgeK-XH"
   },
   "outputs": [],
   "source": [
    "dummy_vars = [ 'Payment', 'Purpose', 'SexMarital', 'MostValuableAsset']\n",
    "x = pd.get_dummies(x, columns = dummy_vars)\n",
    "x.head()"
   ]
  },
  {
   "attachments": {},
   "cell_type": "markdown",
   "metadata": {
    "id": "8VRGATU9K-XH"
   },
   "source": [
    "* train : val:test 분할"
   ]
  },
  {
   "cell_type": "code",
   "execution_count": null,
   "metadata": {
    "id": "HQ-DLO9qL2UO"
   },
   "outputs": [],
   "source": [
    "x_train, x_test, y_train, y_test = train_test_split(x, y, test_size = 20, random_state = 20)\n",
    "x_train, x_val, y_train, y_val = train_test_split(x_train, y_train, test_size = .2, random_state = 20)"
   ]
  },
  {
   "attachments": {},
   "cell_type": "markdown",
   "metadata": {
    "id": "JEj5fDPOK-XH"
   },
   "source": [
    "* 스케일링"
   ]
  },
  {
   "cell_type": "code",
   "execution_count": null,
   "metadata": {
    "id": "hN2jgtu8K-XH"
   },
   "outputs": [],
   "source": [
    "from sklearn.preprocessing import StandardScaler\n",
    "scaler = StandardScaler()\n",
    "x_train_s = scaler.fit_transform(x_train)\n",
    "x_val_s = scaler.transform(x_val)\n",
    "x_test_s = scaler.transform(x_test)\n",
    "\n",
    "x_train_s = pd.DataFrame(x_train_s, columns = list(x_train))\n",
    "x_val_s = pd.DataFrame(x_val_s, columns = list(x_train))\n",
    "x_test_s = pd.DataFrame(x_test_s, columns = list(x_train))"
   ]
  },
  {
   "attachments": {},
   "cell_type": "markdown",
   "metadata": {
    "id": "yzFPsTaZK-XH"
   },
   "source": [
    "### (2) sklearn 튜닝 모델 로깅\n",
    "* KNN, SVM, Decision Tree, RandomForest 등 알고리즘으로 모델 튜닝\n",
    "* mlflow.start_run(experiment_id = exp2, run_name = `모델링의 특성이 반영된 이름`)\n",
    "* autolog로 로깅\n",
    "* 튜닝된 모델은 수동 로깅\n",
    "    * 모델 이름 : `Credit`"
   ]
  },
  {
   "cell_type": "code",
   "execution_count": null,
   "metadata": {
    "id": "GcolawoSK-XI"
   },
   "outputs": [],
   "source": [
    "from sklearn.tree import DecisionTreeClassifier"
   ]
  },
  {
   "cell_type": "code",
   "execution_count": null,
   "metadata": {
    "id": "N1qEAIuMK-XI",
    "tags": []
   },
   "outputs": [],
   "source": []
  },
  {
   "attachments": {},
   "cell_type": "markdown",
   "metadata": {
    "id": "slwwIuqHK-XI"
   },
   "source": [
    "### (3) Keras 모델 로깅\n",
    "* mlflow.start_run(experiment_id = exp2, run_name = `모델링의 특성이 반영된 이름`)\n",
    "* autolog로 로깅\n",
    "* 튜닝된 모델은 수동 로깅\n",
    "    * 모델 이름 : `Credit`"
   ]
  },
  {
   "cell_type": "code",
   "execution_count": null,
   "metadata": {
    "id": "7U9jWhI1K-XI"
   },
   "outputs": [],
   "source": [
    "nfeatures = x_train.shape[1] #num of columns\n",
    "nfeatures"
   ]
  },
  {
   "cell_type": "code",
   "execution_count": null,
   "metadata": {
    "id": "yIldTIItK-XJ"
   },
   "outputs": [],
   "source": []
  },
  {
   "attachments": {},
   "cell_type": "markdown",
   "metadata": {
    "id": "4bfXBd0HN0iF"
   },
   "source": [
    "### (5) test 데이터 저장"
   ]
  },
  {
   "cell_type": "code",
   "execution_count": null,
   "metadata": {
    "id": "sjzNLQ4fN2m6"
   },
   "outputs": [],
   "source": [
    "import joblib\n",
    "\n",
    "joblib.dump(x_test, 'x_test.pkl')\n",
    "joblib.dump(x_test_s, 'x_test_s.pkl')\n",
    "joblib.dump(y_test, 'y_test.pkl')"
   ]
  }
 ],
 "metadata": {
  "colab": {
   "provenance": []
  },
  "kernelspec": {
   "display_name": "Python 3 (ipykernel)",
   "language": "python",
   "name": "python3"
  },
  "language_info": {
   "codemirror_mode": {
    "name": "ipython",
    "version": 3
   },
   "file_extension": ".py",
   "mimetype": "text/x-python",
   "name": "python",
   "nbconvert_exporter": "python",
   "pygments_lexer": "ipython3",
   "version": "3.10.11"
  },
  "toc-autonumbering": false
 },
 "nbformat": 4,
 "nbformat_minor": 4
}
